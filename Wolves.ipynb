{
 "cells": [
  {
   "cell_type": "code",
   "execution_count": 1,
   "id": "d20018d7-d965-4c19-9bc6-8d7db91788d9",
   "metadata": {
    "tags": []
   },
   "outputs": [],
   "source": [
    "import pandas as pd\n",
    "import matplotlib.pyplot as plt\n",
    "import seaborn as sns\n",
    "import numpy as np\n",
    "import plotly.express as px\n",
    "import plotly.graph_objects as go\n"
   ]
  },
  {
   "cell_type": "code",
   "execution_count": 2,
   "id": "65798d0f-4ce9-416e-8f10-04e14014008a",
   "metadata": {
    "tags": []
   },
   "outputs": [],
   "source": [
    "df = pd.read_csv('Deer_Density_DMA.csv')"
   ]
  },
  {
   "cell_type": "code",
   "execution_count": 3,
   "id": "da73c7b1-1750-47ed-8ddc-8f17cb0a71fb",
   "metadata": {
    "tags": []
   },
   "outputs": [
    {
     "data": {
      "text/html": [
       "<div>\n",
       "<style scoped>\n",
       "    .dataframe tbody tr th:only-of-type {\n",
       "        vertical-align: middle;\n",
       "    }\n",
       "\n",
       "    .dataframe tbody tr th {\n",
       "        vertical-align: top;\n",
       "    }\n",
       "\n",
       "    .dataframe thead th {\n",
       "        text-align: right;\n",
       "    }\n",
       "</style>\n",
       "<table border=\"1\" class=\"dataframe\">\n",
       "  <thead>\n",
       "    <tr style=\"text-align: right;\">\n",
       "      <th></th>\n",
       "      <th>DMA</th>\n",
       "      <th>2010</th>\n",
       "      <th>2011</th>\n",
       "      <th>2012</th>\n",
       "      <th>2013</th>\n",
       "      <th>2014</th>\n",
       "      <th>2015</th>\n",
       "      <th>2016</th>\n",
       "      <th>2017</th>\n",
       "      <th>2018</th>\n",
       "      <th>2019</th>\n",
       "      <th>2020</th>\n",
       "    </tr>\n",
       "  </thead>\n",
       "  <tbody>\n",
       "    <tr>\n",
       "      <th>0</th>\n",
       "      <td>101</td>\n",
       "      <td>8.0</td>\n",
       "      <td>7.0</td>\n",
       "      <td>7.0</td>\n",
       "      <td>6.0</td>\n",
       "      <td>7.0</td>\n",
       "      <td>8.0</td>\n",
       "      <td>9.0</td>\n",
       "      <td>8</td>\n",
       "      <td>8</td>\n",
       "      <td>7</td>\n",
       "      <td>7</td>\n",
       "    </tr>\n",
       "    <tr>\n",
       "      <th>1</th>\n",
       "      <td>104</td>\n",
       "      <td>4.0</td>\n",
       "      <td>4.0</td>\n",
       "      <td>4.0</td>\n",
       "      <td>4.0</td>\n",
       "      <td>3.0</td>\n",
       "      <td>3.0</td>\n",
       "      <td>4.0</td>\n",
       "      <td>4</td>\n",
       "      <td>5</td>\n",
       "      <td>4</td>\n",
       "      <td>3</td>\n",
       "    </tr>\n",
       "    <tr>\n",
       "      <th>2</th>\n",
       "      <td>110</td>\n",
       "      <td>18.0</td>\n",
       "      <td>19.0</td>\n",
       "      <td>18.0</td>\n",
       "      <td>16.0</td>\n",
       "      <td>11.0</td>\n",
       "      <td>11.0</td>\n",
       "      <td>13.0</td>\n",
       "      <td>14</td>\n",
       "      <td>15</td>\n",
       "      <td>14</td>\n",
       "      <td>12</td>\n",
       "    </tr>\n",
       "    <tr>\n",
       "      <th>3</th>\n",
       "      <td>111</td>\n",
       "      <td>3.0</td>\n",
       "      <td>3.0</td>\n",
       "      <td>3.0</td>\n",
       "      <td>3.0</td>\n",
       "      <td>2.0</td>\n",
       "      <td>2.0</td>\n",
       "      <td>3.0</td>\n",
       "      <td>3</td>\n",
       "      <td>2</td>\n",
       "      <td>3</td>\n",
       "      <td>3</td>\n",
       "    </tr>\n",
       "    <tr>\n",
       "      <th>4</th>\n",
       "      <td>117</td>\n",
       "      <td>7.0</td>\n",
       "      <td>8.0</td>\n",
       "      <td>7.0</td>\n",
       "      <td>7.0</td>\n",
       "      <td>7.0</td>\n",
       "      <td>7.0</td>\n",
       "      <td>7.0</td>\n",
       "      <td>8</td>\n",
       "      <td>8</td>\n",
       "      <td>7</td>\n",
       "      <td>7</td>\n",
       "    </tr>\n",
       "    <tr>\n",
       "      <th>5</th>\n",
       "      <td>118</td>\n",
       "      <td>7.0</td>\n",
       "      <td>6.0</td>\n",
       "      <td>6.0</td>\n",
       "      <td>6.0</td>\n",
       "      <td>5.0</td>\n",
       "      <td>5.0</td>\n",
       "      <td>6.0</td>\n",
       "      <td>5</td>\n",
       "      <td>4</td>\n",
       "      <td>4</td>\n",
       "      <td>3</td>\n",
       "    </tr>\n",
       "    <tr>\n",
       "      <th>6</th>\n",
       "      <td>119</td>\n",
       "      <td>8.0</td>\n",
       "      <td>9.0</td>\n",
       "      <td>8.0</td>\n",
       "      <td>8.0</td>\n",
       "      <td>6.0</td>\n",
       "      <td>6.0</td>\n",
       "      <td>7.0</td>\n",
       "      <td>6</td>\n",
       "      <td>5</td>\n",
       "      <td>4</td>\n",
       "      <td>3</td>\n",
       "    </tr>\n",
       "    <tr>\n",
       "      <th>7</th>\n",
       "      <td>126</td>\n",
       "      <td>5.0</td>\n",
       "      <td>5.0</td>\n",
       "      <td>5.0</td>\n",
       "      <td>5.0</td>\n",
       "      <td>4.0</td>\n",
       "      <td>4.0</td>\n",
       "      <td>5.0</td>\n",
       "      <td>4</td>\n",
       "      <td>4</td>\n",
       "      <td>4</td>\n",
       "      <td>3</td>\n",
       "    </tr>\n",
       "    <tr>\n",
       "      <th>8</th>\n",
       "      <td>130</td>\n",
       "      <td>5.0</td>\n",
       "      <td>5.0</td>\n",
       "      <td>5.0</td>\n",
       "      <td>5.0</td>\n",
       "      <td>4.0</td>\n",
       "      <td>4.0</td>\n",
       "      <td>5.0</td>\n",
       "      <td>4</td>\n",
       "      <td>4</td>\n",
       "      <td>4</td>\n",
       "      <td>3</td>\n",
       "    </tr>\n",
       "    <tr>\n",
       "      <th>9</th>\n",
       "      <td>131</td>\n",
       "      <td>5.0</td>\n",
       "      <td>4.0</td>\n",
       "      <td>4.0</td>\n",
       "      <td>4.0</td>\n",
       "      <td>4.0</td>\n",
       "      <td>4.0</td>\n",
       "      <td>4.0</td>\n",
       "      <td>4</td>\n",
       "      <td>4</td>\n",
       "      <td>4</td>\n",
       "      <td>4</td>\n",
       "    </tr>\n",
       "    <tr>\n",
       "      <th>10</th>\n",
       "      <td>132</td>\n",
       "      <td>7.0</td>\n",
       "      <td>7.0</td>\n",
       "      <td>8.0</td>\n",
       "      <td>8.0</td>\n",
       "      <td>6.0</td>\n",
       "      <td>6.0</td>\n",
       "      <td>7.0</td>\n",
       "      <td>6</td>\n",
       "      <td>5</td>\n",
       "      <td>4</td>\n",
       "      <td>3</td>\n",
       "    </tr>\n",
       "    <tr>\n",
       "      <th>11</th>\n",
       "      <td>133</td>\n",
       "      <td>13.0</td>\n",
       "      <td>13.0</td>\n",
       "      <td>14.0</td>\n",
       "      <td>14.0</td>\n",
       "      <td>11.0</td>\n",
       "      <td>11.0</td>\n",
       "      <td>13.0</td>\n",
       "      <td>11</td>\n",
       "      <td>10</td>\n",
       "      <td>9</td>\n",
       "      <td>9</td>\n",
       "    </tr>\n",
       "    <tr>\n",
       "      <th>12</th>\n",
       "      <td>155</td>\n",
       "      <td>NaN</td>\n",
       "      <td>NaN</td>\n",
       "      <td>17.0</td>\n",
       "      <td>17.0</td>\n",
       "      <td>13.0</td>\n",
       "      <td>13.0</td>\n",
       "      <td>14.0</td>\n",
       "      <td>11</td>\n",
       "      <td>10</td>\n",
       "      <td>9</td>\n",
       "      <td>10</td>\n",
       "    </tr>\n",
       "    <tr>\n",
       "      <th>13</th>\n",
       "      <td>156</td>\n",
       "      <td>NaN</td>\n",
       "      <td>NaN</td>\n",
       "      <td>16.0</td>\n",
       "      <td>16.0</td>\n",
       "      <td>12.0</td>\n",
       "      <td>12.0</td>\n",
       "      <td>14.0</td>\n",
       "      <td>11</td>\n",
       "      <td>10</td>\n",
       "      <td>9</td>\n",
       "      <td>9</td>\n",
       "    </tr>\n",
       "    <tr>\n",
       "      <th>14</th>\n",
       "      <td>157</td>\n",
       "      <td>NaN</td>\n",
       "      <td>NaN</td>\n",
       "      <td>21.0</td>\n",
       "      <td>21.0</td>\n",
       "      <td>16.0</td>\n",
       "      <td>17.0</td>\n",
       "      <td>20.0</td>\n",
       "      <td>16</td>\n",
       "      <td>14</td>\n",
       "      <td>12</td>\n",
       "      <td>10</td>\n",
       "    </tr>\n",
       "    <tr>\n",
       "      <th>15</th>\n",
       "      <td>159</td>\n",
       "      <td>NaN</td>\n",
       "      <td>NaN</td>\n",
       "      <td>NaN</td>\n",
       "      <td>14.0</td>\n",
       "      <td>13.0</td>\n",
       "      <td>14.0</td>\n",
       "      <td>15.0</td>\n",
       "      <td>17</td>\n",
       "      <td>17</td>\n",
       "      <td>18</td>\n",
       "      <td>17</td>\n",
       "    </tr>\n",
       "    <tr>\n",
       "      <th>16</th>\n",
       "      <td>169</td>\n",
       "      <td>12.0</td>\n",
       "      <td>14.0</td>\n",
       "      <td>13.0</td>\n",
       "      <td>13.0</td>\n",
       "      <td>10.0</td>\n",
       "      <td>10.0</td>\n",
       "      <td>12.0</td>\n",
       "      <td>10</td>\n",
       "      <td>9</td>\n",
       "      <td>8</td>\n",
       "      <td>7</td>\n",
       "    </tr>\n",
       "    <tr>\n",
       "      <th>17</th>\n",
       "      <td>171</td>\n",
       "      <td>12.0</td>\n",
       "      <td>12.0</td>\n",
       "      <td>11.0</td>\n",
       "      <td>11.0</td>\n",
       "      <td>8.0</td>\n",
       "      <td>8.0</td>\n",
       "      <td>9.0</td>\n",
       "      <td>7</td>\n",
       "      <td>6</td>\n",
       "      <td>5</td>\n",
       "      <td>4</td>\n",
       "    </tr>\n",
       "    <tr>\n",
       "      <th>18</th>\n",
       "      <td>172</td>\n",
       "      <td>NaN</td>\n",
       "      <td>NaN</td>\n",
       "      <td>20.0</td>\n",
       "      <td>20.0</td>\n",
       "      <td>17.0</td>\n",
       "      <td>17.0</td>\n",
       "      <td>14.0</td>\n",
       "      <td>15</td>\n",
       "      <td>12</td>\n",
       "      <td>10</td>\n",
       "      <td>10</td>\n",
       "    </tr>\n",
       "    <tr>\n",
       "      <th>19</th>\n",
       "      <td>173</td>\n",
       "      <td>12.0</td>\n",
       "      <td>12.0</td>\n",
       "      <td>11.0</td>\n",
       "      <td>11.0</td>\n",
       "      <td>8.0</td>\n",
       "      <td>8.0</td>\n",
       "      <td>9.0</td>\n",
       "      <td>7</td>\n",
       "      <td>6</td>\n",
       "      <td>7</td>\n",
       "      <td>7</td>\n",
       "    </tr>\n",
       "    <tr>\n",
       "      <th>20</th>\n",
       "      <td>176</td>\n",
       "      <td>12.0</td>\n",
       "      <td>12.0</td>\n",
       "      <td>13.0</td>\n",
       "      <td>10.0</td>\n",
       "      <td>10.0</td>\n",
       "      <td>8.0</td>\n",
       "      <td>9.0</td>\n",
       "      <td>9</td>\n",
       "      <td>10</td>\n",
       "      <td>9</td>\n",
       "      <td>9</td>\n",
       "    </tr>\n",
       "    <tr>\n",
       "      <th>21</th>\n",
       "      <td>177</td>\n",
       "      <td>16.0</td>\n",
       "      <td>17.0</td>\n",
       "      <td>18.0</td>\n",
       "      <td>15.0</td>\n",
       "      <td>12.0</td>\n",
       "      <td>14.0</td>\n",
       "      <td>14.0</td>\n",
       "      <td>15</td>\n",
       "      <td>14</td>\n",
       "      <td>13</td>\n",
       "      <td>14</td>\n",
       "    </tr>\n",
       "    <tr>\n",
       "      <th>22</th>\n",
       "      <td>178</td>\n",
       "      <td>14.0</td>\n",
       "      <td>11.0</td>\n",
       "      <td>13.0</td>\n",
       "      <td>12.0</td>\n",
       "      <td>10.0</td>\n",
       "      <td>9.0</td>\n",
       "      <td>11.0</td>\n",
       "      <td>12</td>\n",
       "      <td>14</td>\n",
       "      <td>13</td>\n",
       "      <td>15</td>\n",
       "    </tr>\n",
       "    <tr>\n",
       "      <th>23</th>\n",
       "      <td>181</td>\n",
       "      <td>16.0</td>\n",
       "      <td>17.0</td>\n",
       "      <td>14.0</td>\n",
       "      <td>12.0</td>\n",
       "      <td>11.0</td>\n",
       "      <td>10.0</td>\n",
       "      <td>12.0</td>\n",
       "      <td>14</td>\n",
       "      <td>15</td>\n",
       "      <td>15</td>\n",
       "      <td>14</td>\n",
       "    </tr>\n",
       "    <tr>\n",
       "      <th>24</th>\n",
       "      <td>183</td>\n",
       "      <td>NaN</td>\n",
       "      <td>NaN</td>\n",
       "      <td>14.0</td>\n",
       "      <td>13.0</td>\n",
       "      <td>13.0</td>\n",
       "      <td>12.0</td>\n",
       "      <td>15.0</td>\n",
       "      <td>15</td>\n",
       "      <td>13</td>\n",
       "      <td>12</td>\n",
       "      <td>12</td>\n",
       "    </tr>\n",
       "  </tbody>\n",
       "</table>\n",
       "</div>"
      ],
      "text/plain": [
       "    DMA  2010  2011  2012  2013  2014  2015  2016  2017  2018  2019  2020\n",
       "0   101   8.0   7.0   7.0   6.0   7.0   8.0   9.0     8     8     7     7\n",
       "1   104   4.0   4.0   4.0   4.0   3.0   3.0   4.0     4     5     4     3\n",
       "2   110  18.0  19.0  18.0  16.0  11.0  11.0  13.0    14    15    14    12\n",
       "3   111   3.0   3.0   3.0   3.0   2.0   2.0   3.0     3     2     3     3\n",
       "4   117   7.0   8.0   7.0   7.0   7.0   7.0   7.0     8     8     7     7\n",
       "5   118   7.0   6.0   6.0   6.0   5.0   5.0   6.0     5     4     4     3\n",
       "6   119   8.0   9.0   8.0   8.0   6.0   6.0   7.0     6     5     4     3\n",
       "7   126   5.0   5.0   5.0   5.0   4.0   4.0   5.0     4     4     4     3\n",
       "8   130   5.0   5.0   5.0   5.0   4.0   4.0   5.0     4     4     4     3\n",
       "9   131   5.0   4.0   4.0   4.0   4.0   4.0   4.0     4     4     4     4\n",
       "10  132   7.0   7.0   8.0   8.0   6.0   6.0   7.0     6     5     4     3\n",
       "11  133  13.0  13.0  14.0  14.0  11.0  11.0  13.0    11    10     9     9\n",
       "12  155   NaN   NaN  17.0  17.0  13.0  13.0  14.0    11    10     9    10\n",
       "13  156   NaN   NaN  16.0  16.0  12.0  12.0  14.0    11    10     9     9\n",
       "14  157   NaN   NaN  21.0  21.0  16.0  17.0  20.0    16    14    12    10\n",
       "15  159   NaN   NaN   NaN  14.0  13.0  14.0  15.0    17    17    18    17\n",
       "16  169  12.0  14.0  13.0  13.0  10.0  10.0  12.0    10     9     8     7\n",
       "17  171  12.0  12.0  11.0  11.0   8.0   8.0   9.0     7     6     5     4\n",
       "18  172   NaN   NaN  20.0  20.0  17.0  17.0  14.0    15    12    10    10\n",
       "19  173  12.0  12.0  11.0  11.0   8.0   8.0   9.0     7     6     7     7\n",
       "20  176  12.0  12.0  13.0  10.0  10.0   8.0   9.0     9    10     9     9\n",
       "21  177  16.0  17.0  18.0  15.0  12.0  14.0  14.0    15    14    13    14\n",
       "22  178  14.0  11.0  13.0  12.0  10.0   9.0  11.0    12    14    13    15\n",
       "23  181  16.0  17.0  14.0  12.0  11.0  10.0  12.0    14    15    15    14\n",
       "24  183   NaN   NaN  14.0  13.0  13.0  12.0  15.0    15    13    12    12"
      ]
     },
     "execution_count": 3,
     "metadata": {},
     "output_type": "execute_result"
    }
   ],
   "source": [
    "df.head(25)"
   ]
  },
  {
   "cell_type": "code",
   "execution_count": 25,
   "id": "0698694a-aeef-471b-a967-1373c88275b9",
   "metadata": {
    "tags": []
   },
   "outputs": [],
   "source": [
    "\n",
    "# Melt the DataFrame to long format\n",
    "df_melted = df.melt(id_vars=['DMA'], var_name='Year', value_name='Deer Density')\n",
    "\n",
    "# Drop rows with None values in the Value column\n",
    "df_melted = df_melted.dropna(subset=['Deer Density'])\n",
    "\n",
    "# Calculate the warmth for each DMA\n",
    "df_melted['Year'] = df_melted['Year'].astype(int)\n",
    "\n",
    "def calculate_warmth(row):\n",
    "    first_year = df_melted[df_melted['DMA'] == row['DMA']]['Year'].min()\n",
    "    if first_year == 2010:\n",
    "        return 9\n",
    "    else:\n",
    "        return min(row['Year'] - first_year + 1, 9)\n",
    "\n",
    "df_melted['Warmth'] = df_melted.apply(calculate_warmth, axis=1)\n",
    "\n",
    "# Calculate yearly average of all values present by year\n",
    "yearly_avg = df_melted.groupby('Year')['Deer Density'].mean().reset_index()\n",
    "\n",
    "# Calculate average for records starting in 2010\n",
    "avg_2010 = df_melted[df_melted.groupby('DMA')['Year'].transform('min') == 2010].groupby('Year')['Deer Density'].mean().reset_index()\n",
    "\n",
    "# Calculate average for records starting in 2012\n",
    "avg_2012 = df_melted[df_melted.groupby('DMA')['Year'].transform('min') == 2012].groupby('Year')['Deer Density'].mean().reset_index()\n",
    "\n",
    "# Calculate average for records starting in 2017\n",
    "avg_2017 = df_melted[df_melted.groupby('DMA')['Year'].transform('min') == 2017].groupby('Year')['Deer Density'].mean().reset_index()\n",
    "\n",
    "\n"
   ]
  },
  {
   "cell_type": "code",
   "execution_count": 26,
   "id": "2b8d9d6b-06d8-416b-b543-da64bb9ab13a",
   "metadata": {
    "tags": []
   },
   "outputs": [
    {
     "data": {
      "image/png": "[encoded data removed]",
      "text/plain": [
       "<Figure size 1000x600 with 1 Axes>"
      ]
     },
     "metadata": {},
     "output_type": "display_data"
    },
    {
     "data": {
      "image/png": "[encoded data removed]",
      "text/plain": [
       "<Figure size 1000x600 with 1 Axes>"
      ]
     },
     "metadata": {},
     "output_type": "display_data"
    }
   ],
   "source": [
    "# Create a beeswarm plot with color based on warmth\n",
    "plt.figure(figsize=(10,6))\n",
    "# sns.swarmplot(x='Year', y='Deer Density', hue='Warmth', palette='coolwarm', data=df_melted)\n",
    "plt.plot(yearly_avg['Year'], yearly_avg['Deer Density'], color='black', marker='o', linestyle='-', linewidth=2)\n",
    "plt.plot(avg_2010['Year'], avg_2010['Deer Density'], color='pink', marker='o', linestyle='-', linewidth=2)\n",
    "plt.plot(avg_2012['Year'], avg_2012['Deer Density'], color='grey', marker='o', linestyle='-', linewidth=2)\n",
    "plt.plot(avg_2017['Year'], avg_2017['Deer Density'], color='blue', marker='o', linestyle='-', linewidth=2)\n",
    "plt.title('Beeswarm Plot of DMA Values Over Years with Warmth Coloring and Yearly Average')\n",
    "plt.show()\n",
    "\n",
    "plt.figure(figsize=(10,6))\n",
    "sns.swarmplot(x='Year', y='Deer Density', hue='Warmth', palette='coolwarm', data=df_melted)\n",
    "plt.plot(yearly_avg['Deer Density'], color='black', marker='o', linestyle='-', linewidth=2)\n",
    "# plt.plot(avg_2010['Year'], avg_2010['Deer Density'], color='pink', marker='o', linestyle='-', linewidth=2)\n",
    "# plt.plot(avg_2012['Year'], avg_2012['Deer Density'], color='grey', marker='o', linestyle='-', linewidth=2)\n",
    "# plt.plot(avg_2017['Year'], avg_2017['Deer Density'], color='blue', marker='o', linestyle='-', linewidth=2)\n",
    "plt.title('Beeswarm Plot of DMA Values Over Years with Warmth Coloring and Yearly Average')\n",
    "plt.show()\n",
    "# # Create a beeswarm plot with color based on warmth\n",
    "# plt.figure(figsize=(10,6))\n",
    "# sns.swarmplot(x='Year', y='Deer Density', hue='Warmth', palette='coolwarm', data=df_melted)\n",
    "# plt.plot(yearly_avg['Deer Density'], color='black', marker='o', linestyle='-', linewidth=2)\n",
    "# plt.title('Beeswarm Plot of DMA Values Over Years with Warmth Coloring and Yearly Average')\n",
    "# plt.show()\n"
   ]
  },
  {
   "cell_type": "code",
   "execution_count": 27,
   "id": "6da0c911-f1b6-4452-b4b5-90c6077430de",
   "metadata": {
    "tags": []
   },
   "outputs": [
    {
     "name": "stdout",
     "output_type": "stream",
     "text": [
      "<class 'pandas.core.frame.DataFrame'>\n",
      "Index: 430 entries, 0 to 582\n",
      "Data columns (total 4 columns):\n",
      " #   Column        Non-Null Count  Dtype  \n",
      "---  ------        --------------  -----  \n",
      " 0   DMA           430 non-null    int64  \n",
      " 1   Year          430 non-null    int32  \n",
      " 2   Deer Density  430 non-null    float64\n",
      " 3   Warmth        430 non-null    float64\n",
      "dtypes: float64(2), int32(1), int64(1)\n",
      "memory usage: 15.1 KB\n"
     ]
    }
   ],
   "source": [
    "df_melted.info()"
   ]
  },
  {
   "cell_type": "code",
   "execution_count": 42,
   "id": "c5460566-302e-4378-8cc1-9e5888b9d9a4",
   "metadata": {
    "tags": []
   },
   "outputs": [
    {
     "data": {
      "application/vnd.plotly.v1+json": {
       "config": {
        "plotlyServerURL": "https://plot.ly"
       },
       "data": [
        {
         "hovertemplate": "Year=%{x}<br>Deer Density=%{y}<br>Warmth=%{marker.color}<extra></extra>",
         "legendgroup": "",
         "marker": {
          "color": [
           9,
           9,
           9,
           9,
           9,
           9,
           9,
           9,
           9,
           9,
           9,
           9,
           9,
           9,
           9,
           9,
           9,
           9,
           9,
           9,
           9,
           9,
           9,
           9,
           9,
           9,
           9,
           9,
           9,
           9,
           9,
           9,
           9,
           9,
           9,
           9,
           9,
           9,
           9,
           9,
           9,
           9,
           9,
           9,
           9,
           9,
           9,
           9,
           9,
           9,
           9,
           9,
           1,
           1,
           1,
           9,
           9,
           1,
           9,
           9,
           9,
           9,
           9,
           1,
           9,
           1,
           1,
           1,
           1,
           1,
           1,
           1,
           1,
           1,
           9,
           9,
           9,
           9,
           9,
           9,
           9,
           9,
           9,
           9,
           9,
           9,
           2,
           2,
           2,
           1,
           9,
           9,
           2,
           9,
           9,
           9,
           9,
           9,
           2,
           9,
           2,
           2,
           2,
           2,
           2,
           2,
           2,
           2,
           2,
           1,
           9,
           9,
           9,
           9,
           9,
           9,
           9,
           9,
           9,
           9,
           9,
           9,
           3,
           3,
           3,
           2,
           9,
           9,
           3,
           9,
           9,
           9,
           9,
           9,
           3,
           9,
           3,
           3,
           3,
           3,
           3,
           3,
           3,
           3,
           3,
           2,
           9,
           9,
           9,
           9,
           9,
           9,
           9,
           9,
           9,
           9,
           9,
           9,
           4,
           4,
           4,
           3,
           9,
           9,
           4,
           9,
           9,
           9,
           9,
           9,
           4,
           9,
           4,
           4,
           4,
           4,
           4,
           4,
           4,
           4,
           4,
           3,
           9,
           9,
           9,
           9,
           9,
           9,
           9,
           9,
           9,
           9,
           9,
           9,
           5,
           5,
           5,
           4,
           9,
           9,
           5,
           9,
           9,
           9,
           9,
           9,
           5,
           9,
           5,
           5,
           5,
           5,
           5,
           5,
           5,
           5,
           5,
           4,
           9,
           9,
           9,
           9,
           9,
           9,
           9,
           9,
           9,
           9,
           9,
           9,
           6,
           6,
           6,
           5,
           9,
           9,
           6,
           9,
           9,
           9,
           9,
           9,
           6,
           9,
           6,
           6,
           6,
           6,
           1,
           1,
           1,
           1,
           1,
           1,
           1,
           1,
           1,
           6,
           6,
           1,
           1,
           1,
           6,
           1,
           1,
           1,
           1,
           6,
           6,
           1,
           5,
           9,
           9,
           9,
           9,
           9,
           9,
           9,
           9,
           9,
           9,
           9,
           9,
           7,
           7,
           7,
           6,
           9,
           9,
           7,
           9,
           9,
           9,
           9,
           9,
           7,
           9,
           7,
           7,
           7,
           7,
           2,
           2,
           2,
           2,
           2,
           2,
           2,
           2,
           2,
           7,
           7,
           2,
           2,
           2,
           7,
           2,
           2,
           2,
           2,
           7,
           7,
           2,
           6,
           9,
           9,
           9,
           9,
           9,
           9,
           9,
           9,
           9,
           9,
           9,
           9,
           8,
           8,
           8,
           7,
           9,
           9,
           8,
           9,
           9,
           9,
           9,
           9,
           8,
           9,
           8,
           8,
           8,
           8,
           3,
           3,
           3,
           3,
           3,
           3,
           3,
           3,
           3,
           8,
           8,
           3,
           3,
           3,
           8,
           3,
           3,
           3,
           3,
           8,
           8,
           3,
           7,
           9,
           9,
           9,
           9,
           9,
           9,
           9,
           9,
           9,
           9,
           9,
           9,
           9,
           9,
           9,
           8,
           9,
           9,
           9,
           9,
           9,
           9,
           9,
           9,
           9,
           9,
           9,
           9,
           9,
           9,
           4,
           4,
           4,
           4,
           4,
           4,
           4,
           4,
           4,
           9,
           9,
           4,
           4,
           4,
           9,
           4,
           4,
           4,
           4,
           9,
           9,
           4,
           8
          ],
          "coloraxis": "coloraxis",
          "symbol": "circle"
         },
         "mode": "markers",
         "name": "",
         "orientation": "v",
         "showlegend": false,
         "type": "scatter",
         "x": [
          2009.9928466506851,
          2010.2542808688574,
          2010.1867807133485,
          2010.0693471707225,
          2010.0954247802767,
          2009.7905702347407,
          2010.0505271481466,
          2009.814294012191,
          2010.1571104073334,
          2010.0550611787435,
          2009.7887949016142,
          2009.9437589327006,
          2009.9702490533068,
          2009.9400667208204,
          2010.439886360451,
          2010.1736538137445,
          2010.0794486732939,
          2010.0316326727454,
          2010.0250502575138,
          2009.814594526787,
          2011.422547567465,
          2011.0263186012062,
          2010.9318389007458,
          2011.1167903679054,
          2011.2395531553175,
          2011.0729661085254,
          2010.8814507261181,
          2010.7597084257798,
          2010.802726940333,
          2011.0099060738305,
          2011.1888625533404,
          2011.3854732575694,
          2011.1026236453924,
          2011.1514855097105,
          2011.1439104688343,
          2010.895872630967,
          2011.1468090400506,
          2010.9947842513652,
          2011.1084279198624,
          2011.2628068459715,
          2012.0047335509662,
          2011.6760679669303,
          2012.1371022637336,
          2012.0060780614476,
          2012.2020424006303,
          2011.840681588349,
          2012.0001173152325,
          2011.8922480956978,
          2012.028995520447,
          2011.9867507028505,
          2011.9604055921372,
          2012.1348001592623,
          2011.7216384564072,
          2011.8138569037103,
          2011.9417914615167,
          2011.9385087185271,
          2011.6665820658584,
          2011.9249563347103,
          2012.0627615834148,
          2011.7710653622346,
          2011.8351619820507,
          2012.2170293358852,
          2011.8939791492994,
          2012.0105113513252,
          2012.1995895395962,
          2012.2046451589501,
          2012.2701754713298,
          2012.3122974686644,
          2012.2475692877913,
          2011.8692185313525,
          2011.774713627739,
          2011.9206397911134,
          2012.2582118874732,
          2011.8186045429816,
          2013.1129572368623,
          2013.1816717666306,
          2013.4133528675732,
          2012.850827983051,
          2013.3175495145708,
          2013.2611335715421,
          2013.034629563613,
          2013.0630912745507,
          2012.9061495014132,
          2012.9078487334139,
          2013.1299786069912,
          2013.0061979597585,
          2012.7850869906806,
          2013.0315090290744,
          2012.8088360695417,
          2012.929953044431,
          2013.0141204404297,
          2012.91501704041,
          2013.0438683530367,
          2013.3243011365719,
          2012.8837311279322,
          2012.925899768426,
          2012.881439426019,
          2012.9839232645932,
          2013.0026863148155,
          2012.992547366157,
          2013.103327440903,
          2013.0458777142956,
          2012.837804211963,
          2012.861241695802,
          2013.2299155179355,
          2012.9927791735945,
          2013.333378788714,
          2012.8798811518077,
          2013.141012907702,
          2013.1511023875946,
          2014.262453724895,
          2013.9412209857273,
          2014.076025087067,
          2013.9590116520499,
          2013.9006739811543,
          2014.2574040094257,
          2014.1114893790307,
          2013.8884099344677,
          2013.8770678905337,
          2013.9303474094577,
          2013.5464303126223,
          2014.0474791108968,
          2013.5872599482275,
          2014.0620281931785,
          2014.1728848711446,
          2013.8963901964128,
          2014.0835944571636,
          2013.997754607097,
          2013.7925517034407,
          2014.429488462594,
          2013.7126979581087,
          2014.2793561653925,
          2014.171976231186,
          2013.6898614189122,
          2013.9100207219503,
          2013.974651932078,
          2013.747130864228,
          2014.4064779546115,
          2013.9603752012683,
          2014.0160761920567,
          2013.998032942655,
          2014.019979069008,
          2013.7789444046111,
          2013.6784491666187,
          2013.6880667985108,
          2013.932820718054,
          2015.2815435491111,
          2015.0697976053493,
          2015.0929074998683,
          2014.7907695934073,
          2015.099545345746,
          2014.8735277772055,
          2014.934498950291,
          2014.8132251581867,
          2015.1656741066531,
          2014.9492917957389,
          2014.865557086739,
          2015.1523902726453,
          2014.9957909888337,
          2014.7595386316934,
          2014.7839421558388,
          2014.9649206436268,
          2014.958086340701,
          2015.0996445259473,
          2014.9686294057535,
          2015.0537352804317,
          2015.0222330935974,
          2015.0605702769,
          2015.2887569342424,
          2015.1089824782448,
          2015.03650340903,
          2014.870787666664,
          2014.680249632807,
          2014.9957467885483,
          2014.8706243199608,
          2015.0608904770886,
          2015.0106559389158,
          2015.0205904432482,
          2014.9013802989605,
          2014.9823514248187,
          2014.9178957000156,
          2015.1982209327061,
          2015.8315119475692,
          2016.1231869537799,
          2016.0508916111703,
          2015.8145635100145,
          2015.8794202678341,
          2015.9451143110025,
          2015.8752556613424,
          2015.9164127708968,
          2015.915489976661,
          2016.0353508233356,
          2015.9453794986703,
          2015.8822651098503,
          2015.6539592558065,
          2015.7375928370734,
          2016.0991488386678,
          2016.0555656548345,
          2015.9355042908298,
          2016.1227929130162,
          2015.7991697590714,
          2016.0866818909333,
          2015.9587336970926,
          2016.0328293356683,
          2016.0835521143288,
          2016.389672088866,
          2015.8195776191178,
          2016.3239756877508,
          2015.6200837474778,
          2016.2278514093173,
          2015.8507010478802,
          2015.9397780722898,
          2016.0414545779886,
          2015.785619034061,
          2016.0106282148074,
          2015.872206165589,
          2015.971772192225,
          2016.0058139307973,
          2017.036787538664,
          2016.9321412428242,
          2017.1141732341275,
          2016.9617161869278,
          2017.1356089351245,
          2017.0048291202997,
          2016.8007257724685,
          2016.9745518350828,
          2016.8111807445773,
          2016.7717028472857,
          2016.7489578179454,
          2016.9043131775368,
          2016.749269180358,
          2016.8758360350241,
          2017.0076280057433,
          2016.9424020603092,
          2017.0725641304784,
          2016.8739265792183,
          2016.945248816187,
          2017.0908116229414,
          2017.245115673321,
          2017.0257900148101,
          2017.069502401309,
          2016.6661234045916,
          2017.392393246598,
          2016.95011818084,
          2016.91487694453,
          2016.8674112733909,
          2016.9767208063392,
          2017.098405752566,
          2017.1393756568336,
          2017.0059999695989,
          2017.0292166541901,
          2017.116526383894,
          2016.813085277762,
          2017.3133753017992,
          2016.9183605217877,
          2016.9009485241459,
          2016.9883908211066,
          2016.8705047317724,
          2017.3589115187901,
          2017.0731364114392,
          2017.1264596258586,
          2016.9496519937481,
          2016.9807530972466,
          2016.8248977673036,
          2016.691696135523,
          2017.29232815986,
          2017.0196878569093,
          2017.2970270922217,
          2017.4670632039833,
          2017.1529225123547,
          2017.1005703990447,
          2018.2351975519543,
          2017.967232679251,
          2018.1857849067476,
          2017.673549292693,
          2018.0325508057463,
          2018.0992740745594,
          2018.0193699371232,
          2018.1927041369158,
          2017.854732021345,
          2017.883044622065,
          2017.9156308764395,
          2017.8785289618281,
          2018.0582864778937,
          2017.9734179594714,
          2018.1664379953695,
          2018.0568639950206,
          2018.18555278284,
          2018.173558094395,
          2018.1039221184715,
          2018.3382861991613,
          2018.1069022753268,
          2017.8020694879622,
          2018.5386460705354,
          2017.8358760168517,
          2018.111420751719,
          2017.6647633471453,
          2017.9477710998772,
          2017.9791999879587,
          2017.6929233087176,
          2018.3134707057409,
          2017.901287118033,
          2018.1810848182163,
          2017.9171651397473,
          2018.0571521053032,
          2017.8971443166974,
          2018.0140483405407,
          2018.1161009986727,
          2017.9312970875642,
          2017.8225280747122,
          2017.6273354372404,
          2018.0328401300403,
          2018.0931662805174,
          2017.834388627763,
          2017.7396234755338,
          2018.2544021290516,
          2017.634323392573,
          2017.9117764586933,
          2018.1312988274644,
          2018.1488667976043,
          2018.108012665575,
          2018.248042266086,
          2018.1278921668445,
          2018.171423244087,
          2018.956859894861,
          2019.1884709174003,
          2019.2808225346698,
          2019.1153853653082,
          2018.9762525616654,
          2018.8914723588703,
          2018.9051451836629,
          2018.965789405377,
          2018.7562035097137,
          2018.8730394572915,
          2018.7523942966625,
          2018.9975505948669,
          2018.9722557832233,
          2018.8852691963023,
          2018.9859115525642,
          2019.1030081539823,
          2018.8987068999656,
          2019.0091229764735,
          2018.881868742513,
          2018.9684645534192,
          2019.124084692632,
          2018.6766352768554,
          2018.935335744968,
          2019.1027971319536,
          2019.0750000009805,
          2019.0458997965648,
          2018.991604844235,
          2018.9244680896466,
          2019.1702427700773,
          2018.8107446848041,
          2019.2985230152735,
          2018.698047908947,
          2019.0002982518924,
          2018.8061891049626,
          2019.0529515996197,
          2019.157697321112,
          2018.7510153742323,
          2019.2758670727,
          2019.0566880100598,
          2018.9439368883213,
          2018.6315680337675,
          2019.2804159894804,
          2018.902767261726,
          2018.7980063283405,
          2018.6501131178827,
          2019.3364622527738,
          2018.9050382702937,
          2018.743726686572,
          2018.8720550197786,
          2018.7447525534735,
          2019.0751532877775,
          2019.066392000999,
          2018.8900945309388,
          2019.8956773750738,
          2020.1394864386443,
          2019.6549428860392,
          2020.0304049921704,
          2019.8459320355812,
          2019.8474026903468,
          2020.0943924977373,
          2019.7857191214673,
          2020.093818737028,
          2019.9329457145323,
          2020.0369029761243,
          2020.08484534744,
          2019.8566156074066,
          2019.9087701916028,
          2020.3092728126005,
          2019.8446301841636,
          2019.9079613387376,
          2020.0130123913077,
          2019.855761878715,
          2020.074757592845,
          2019.7748173889352,
          2019.9668292399576,
          2020.1846784215402,
          2020.2077393169766,
          2020.2204818431142,
          2020.1974806937155,
          2019.9840187720047,
          2020.08410018734,
          2020.0257127645802,
          2020.0126123169005,
          2020.2322065545823,
          2019.9340754887678,
          2019.8330904754052,
          2020.0237360962165,
          2020.4698979440063,
          2020.3206037613159,
          2019.9221215924283,
          2020.2227824886497,
          2020.058157388167,
          2019.8238038318623,
          2019.7555295996851,
          2020.1666422478263,
          2020.1333363640786,
          2020.0161857889634,
          2019.664723813888,
          2019.900086723876,
          2019.922459111414,
          2019.8226263941738,
          2019.776653728592,
          2020.0418446947701,
          2020.017762500519,
          2019.8338580818602,
          2020.3088512893958
         ],
         "xaxis": "x",
         "y": [
          8,
          4,
          18,
          3,
          7,
          7,
          8,
          5,
          5,
          5,
          7,
          13,
          12,
          12,
          12,
          12,
          16,
          14,
          16,
          17,
          7,
          4,
          19,
          3,
          8,
          6,
          9,
          5,
          5,
          4,
          7,
          13,
          14,
          12,
          12,
          12,
          17,
          11,
          17,
          15,
          7,
          4,
          18,
          3,
          7,
          6,
          8,
          5,
          5,
          4,
          8,
          14,
          17,
          16,
          21,
          13,
          11,
          20,
          11,
          13,
          18,
          13,
          14,
          14,
          14,
          13,
          10,
          9,
          10,
          18,
          18,
          23,
          5,
          10,
          6,
          4,
          16,
          3,
          7,
          6,
          8,
          5,
          5,
          4,
          8,
          14,
          17,
          16,
          21,
          14,
          13,
          11,
          20,
          11,
          10,
          15,
          12,
          12,
          13,
          13,
          14,
          10,
          7,
          11,
          19,
          19,
          22,
          5,
          10,
          14,
          7,
          3,
          11,
          2,
          7,
          5,
          6,
          4,
          4,
          4,
          6,
          11,
          13,
          12,
          16,
          13,
          10,
          8,
          17,
          8,
          10,
          12,
          10,
          11,
          13,
          13,
          10,
          9,
          6,
          10,
          16,
          17,
          19,
          5,
          10,
          10,
          8,
          3,
          11,
          2,
          7,
          5,
          6,
          4,
          4,
          4,
          6,
          11,
          13,
          12,
          17,
          14,
          10,
          8,
          17,
          8,
          8,
          14,
          9,
          10,
          12,
          12,
          13,
          8,
          5,
          10,
          17,
          17,
          20,
          5,
          10,
          13,
          9,
          4,
          13,
          3,
          7,
          6,
          7,
          5,
          5,
          4,
          7,
          13,
          14,
          14,
          20,
          15,
          12,
          9,
          14,
          9,
          9,
          14,
          11,
          12,
          15,
          15,
          12,
          9,
          6,
          9,
          20,
          19,
          21,
          5,
          11,
          12,
          8,
          4,
          14,
          3,
          8,
          5,
          6,
          4,
          4,
          4,
          6,
          11,
          11,
          11,
          16,
          17,
          10,
          7,
          15,
          7,
          9,
          15,
          12,
          14,
          15,
          18,
          13,
          10,
          7,
          10,
          33,
          20,
          21,
          22,
          25,
          23,
          15,
          27,
          28,
          22,
          20,
          9,
          11,
          14,
          22,
          12,
          17,
          13,
          7,
          6,
          11,
          4,
          15,
          8,
          5,
          15,
          2,
          8,
          4,
          5,
          4,
          4,
          4,
          5,
          10,
          10,
          10,
          14,
          17,
          9,
          6,
          12,
          6,
          10,
          14,
          14,
          15,
          13,
          20,
          15,
          11,
          8,
          10,
          35,
          22,
          24,
          23,
          28,
          25,
          16,
          29,
          29,
          23,
          21,
          10,
          13,
          14,
          22,
          13,
          19,
          14,
          8,
          6,
          10,
          5,
          15,
          7,
          4,
          14,
          3,
          7,
          4,
          4,
          4,
          4,
          4,
          4,
          9,
          9,
          9,
          12,
          18,
          8,
          5,
          10,
          7,
          9,
          13,
          13,
          15,
          12,
          21,
          16,
          10,
          8,
          9,
          35,
          24,
          26,
          24,
          28,
          27,
          16,
          29,
          30,
          23,
          22,
          11,
          13,
          13,
          21,
          14,
          19,
          13,
          9,
          5,
          10,
          5,
          16,
          7,
          3,
          12,
          3,
          7,
          3,
          3,
          3,
          3,
          4,
          3,
          9,
          10,
          9,
          10,
          17,
          7,
          4,
          10,
          7,
          9,
          14,
          15,
          14,
          12,
          22,
          19,
          8,
          9,
          10,
          33,
          26,
          29,
          25,
          31,
          28,
          17,
          30,
          29,
          25,
          23,
          12,
          14,
          14,
          24,
          15,
          22,
          14,
          8,
          5,
          10,
          6,
          17
         ],
         "yaxis": "y"
        }
       ],
       "layout": {
        "autosize": true,
        "coloraxis": {
         "colorbar": {
          "len": 0.65,
          "lenmode": "fraction",
          "title": {
           "text": "Warmth"
          }
         },
         "colorscale": [
          [
           0,
           "rgb(41, 24, 107)"
          ],
          [
           0.09090909090909091,
           "rgb(42, 35, 160)"
          ],
          [
           0.18181818181818182,
           "rgb(15, 71, 153)"
          ],
          [
           0.2727272727272727,
           "rgb(18, 95, 142)"
          ],
          [
           0.36363636363636365,
           "rgb(38, 116, 137)"
          ],
          [
           0.45454545454545453,
           "rgb(53, 136, 136)"
          ],
          [
           0.5454545454545454,
           "rgb(65, 157, 133)"
          ],
          [
           0.6363636363636364,
           "rgb(81, 178, 124)"
          ],
          [
           0.7272727272727273,
           "rgb(111, 198, 107)"
          ],
          [
           0.8181818181818182,
           "rgb(160, 214, 91)"
          ],
          [
           0.9090909090909091,
           "rgb(212, 225, 112)"
          ],
          [
           1,
           "rgb(253, 238, 153)"
          ]
         ]
        },
        "legend": {
         "tracegroupgap": 0
        },
        "template": {
         "data": {
          "bar": [
           {
            "error_x": {
             "color": "#2a3f5f"
            },
            "error_y": {
             "color": "#2a3f5f"
            },
            "marker": {
             "line": {
              "color": "#E5ECF6",
              "width": 0.5
             },
             "pattern": {
              "fillmode": "overlay",
              "size": 10,
              "solidity": 0.2
             }
            },
            "type": "bar"
           }
          ],
          "barpolar": [
           {
            "marker": {
             "line": {
              "color": "#E5ECF6",
              "width": 0.5
             },
             "pattern": {
              "fillmode": "overlay",
              "size": 10,
              "solidity": 0.2
             }
            },
            "type": "barpolar"
           }
          ],
          "carpet": [
           {
            "aaxis": {
             "endlinecolor": "#2a3f5f",
             "gridcolor": "white",
             "linecolor": "white",
             "minorgridcolor": "white",
             "startlinecolor": "#2a3f5f"
            },
            "baxis": {
             "endlinecolor": "#2a3f5f",
             "gridcolor": "white",
             "linecolor": "white",
             "minorgridcolor": "white",
             "startlinecolor": "#2a3f5f"
            },
            "type": "carpet"
           }
          ],
          "choropleth": [
           {
            "colorbar": {
             "outlinewidth": 0,
             "ticks": ""
            },
            "type": "choropleth"
           }
          ],
          "contour": [
           {
            "colorbar": {
             "outlinewidth": 0,
             "ticks": ""
            },
            "colorscale": [
             [
              0,
              "#0d0887"
             ],
             [
              0.1111111111111111,
              "#46039f"
             ],
             [
              0.2222222222222222,
              "#7201a8"
             ],
             [
              0.3333333333333333,
              "#9c179e"
             ],
             [
              0.4444444444444444,
              "#bd3786"
             ],
             [
              0.5555555555555556,
              "#d8576b"
             ],
             [
              0.6666666666666666,
              "#ed7953"
             ],
             [
              0.7777777777777778,
              "#fb9f3a"
             ],
             [
              0.8888888888888888,
              "#fdca26"
             ],
             [
              1,
              "#f0f921"
             ]
            ],
            "type": "contour"
           }
          ],
          "contourcarpet": [
           {
            "colorbar": {
             "outlinewidth": 0,
             "ticks": ""
            },
            "type": "contourcarpet"
           }
          ],
          "heatmap": [
           {
            "colorbar": {
             "outlinewidth": 0,
             "ticks": ""
            },
            "colorscale": [
             [
              0,
              "#0d0887"
             ],
             [
              0.1111111111111111,
              "#46039f"
             ],
             [
              0.2222222222222222,
              "#7201a8"
             ],
             [
              0.3333333333333333,
              "#9c179e"
             ],
             [
              0.4444444444444444,
              "#bd3786"
             ],
             [
              0.5555555555555556,
              "#d8576b"
             ],
             [
              0.6666666666666666,
              "#ed7953"
             ],
             [
              0.7777777777777778,
              "#fb9f3a"
             ],
             [
              0.8888888888888888,
              "#fdca26"
             ],
             [
              1,
              "#f0f921"
             ]
            ],
            "type": "heatmap"
           }
          ],
          "heatmapgl": [
           {
            "colorbar": {
             "outlinewidth": 0,
             "ticks": ""
            },
            "colorscale": [
             [
              0,
              "#0d0887"
             ],
             [
              0.1111111111111111,
              "#46039f"
             ],
             [
              0.2222222222222222,
              "#7201a8"
             ],
             [
              0.3333333333333333,
              "#9c179e"
             ],
             [
              0.4444444444444444,
              "#bd3786"
             ],
             [
              0.5555555555555556,
              "#d8576b"
             ],
             [
              0.6666666666666666,
              "#ed7953"
             ],
             [
              0.7777777777777778,
              "#fb9f3a"
             ],
             [
              0.8888888888888888,
              "#fdca26"
             ],
             [
              1,
              "#f0f921"
             ]
            ],
            "type": "heatmapgl"
           }
          ],
          "histogram": [
           {
            "marker": {
             "pattern": {
              "fillmode": "overlay",
              "size": 10,
              "solidity": 0.2
             }
            },
            "type": "histogram"
           }
          ],
          "histogram2d": [
           {
            "colorbar": {
             "outlinewidth": 0,
             "ticks": ""
            },
            "colorscale": [
             [
              0,
              "#0d0887"
             ],
             [
              0.1111111111111111,
              "#46039f"
             ],
             [
              0.2222222222222222,
              "#7201a8"
             ],
             [
              0.3333333333333333,
              "#9c179e"
             ],
             [
              0.4444444444444444,
              "#bd3786"
             ],
             [
              0.5555555555555556,
              "#d8576b"
             ],
             [
              0.6666666666666666,
              "#ed7953"
             ],
             [
              0.7777777777777778,
              "#fb9f3a"
             ],
             [
              0.8888888888888888,
              "#fdca26"
             ],
             [
              1,
              "#f0f921"
             ]
            ],
            "type": "histogram2d"
           }
          ],
          "histogram2dcontour": [
           {
            "colorbar": {
             "outlinewidth": 0,
             "ticks": ""
            },
            "colorscale": [
             [
              0,
              "#0d0887"
             ],
             [
              0.1111111111111111,
              "#46039f"
             ],
             [
              0.2222222222222222,
              "#7201a8"
             ],
             [
              0.3333333333333333,
              "#9c179e"
             ],
             [
              0.4444444444444444,
              "#bd3786"
             ],
             [
              0.5555555555555556,
              "#d8576b"
             ],
             [
              0.6666666666666666,
              "#ed7953"
             ],
             [
              0.7777777777777778,
              "#fb9f3a"
             ],
             [
              0.8888888888888888,
              "#fdca26"
             ],
             [
              1,
              "#f0f921"
             ]
            ],
            "type": "histogram2dcontour"
           }
          ],
          "mesh3d": [
           {
            "colorbar": {
             "outlinewidth": 0,
             "ticks": ""
            },
            "type": "mesh3d"
           }
          ],
          "parcoords": [
           {
            "line": {
             "colorbar": {
              "outlinewidth": 0,
              "ticks": ""
             }
            },
            "type": "parcoords"
           }
          ],
          "pie": [
           {
            "automargin": true,
            "type": "pie"
           }
          ],
          "scatter": [
           {
            "fillpattern": {
             "fillmode": "overlay",
             "size": 10,
             "solidity": 0.2
            },
            "type": "scatter"
           }
          ],
          "scatter3d": [
           {
            "line": {
             "colorbar": {
              "outlinewidth": 0,
              "ticks": ""
             }
            },
            "marker": {
             "colorbar": {
              "outlinewidth": 0,
              "ticks": ""
             }
            },
            "type": "scatter3d"
           }
          ],
          "scattercarpet": [
           {
            "marker": {
             "colorbar": {
              "outlinewidth": 0,
              "ticks": ""
             }
            },
            "type": "scattercarpet"
           }
          ],
          "scattergeo": [
           {
            "marker": {
             "colorbar": {
              "outlinewidth": 0,
              "ticks": ""
             }
            },
            "type": "scattergeo"
           }
          ],
          "scattergl": [
           {
            "marker": {
             "colorbar": {
              "outlinewidth": 0,
              "ticks": ""
             }
            },
            "type": "scattergl"
           }
          ],
          "scattermapbox": [
           {
            "marker": {
             "colorbar": {
              "outlinewidth": 0,
              "ticks": ""
             }
            },
            "type": "scattermapbox"
           }
          ],
          "scatterpolar": [
           {
            "marker": {
             "colorbar": {
              "outlinewidth": 0,
              "ticks": ""
             }
            },
            "type": "scatterpolar"
           }
          ],
          "scatterpolargl": [
           {
            "marker": {
             "colorbar": {
              "outlinewidth": 0,
              "ticks": ""
             }
            },
            "type": "scatterpolargl"
           }
          ],
          "scatterternary": [
           {
            "marker": {
             "colorbar": {
              "outlinewidth": 0,
              "ticks": ""
             }
            },
            "type": "scatterternary"
           }
          ],
          "surface": [
           {
            "colorbar": {
             "outlinewidth": 0,
             "ticks": ""
            },
            "colorscale": [
             [
              0,
              "#0d0887"
             ],
             [
              0.1111111111111111,
              "#46039f"
             ],
             [
              0.2222222222222222,
              "#7201a8"
             ],
             [
              0.3333333333333333,
              "#9c179e"
             ],
             [
              0.4444444444444444,
              "#bd3786"
             ],
             [
              0.5555555555555556,
              "#d8576b"
             ],
             [
              0.6666666666666666,
              "#ed7953"
             ],
             [
              0.7777777777777778,
              "#fb9f3a"
             ],
             [
              0.8888888888888888,
              "#fdca26"
             ],
             [
              1,
              "#f0f921"
             ]
            ],
            "type": "surface"
           }
          ],
          "table": [
           {
            "cells": {
             "fill": {
              "color": "#EBF0F8"
             },
             "line": {
              "color": "white"
             }
            },
            "header": {
             "fill": {
              "color": "#C8D4E3"
             },
             "line": {
              "color": "white"
             }
            },
            "type": "table"
           }
          ]
         },
         "layout": {
          "annotationdefaults": {
           "arrowcolor": "#2a3f5f",
           "arrowhead": 0,
           "arrowwidth": 1
          },
          "autotypenumbers": "strict",
          "coloraxis": {
           "colorbar": {
            "outlinewidth": 0,
            "ticks": ""
           }
          },
          "colorscale": {
           "diverging": [
            [
             0,
             "#8e0152"
            ],
            [
             0.1,
             "#c51b7d"
            ],
            [
             0.2,
             "#de77ae"
            ],
            [
             0.3,
             "#f1b6da"
            ],
            [
             0.4,
             "#fde0ef"
            ],
            [
             0.5,
             "#f7f7f7"
            ],
            [
             0.6,
             "#e6f5d0"
            ],
            [
             0.7,
             "#b8e186"
            ],
            [
             0.8,
             "#7fbc41"
            ],
            [
             0.9,
             "#4d9221"
            ],
            [
             1,
             "#276419"
            ]
           ],
           "sequential": [
            [
             0,
             "#0d0887"
            ],
            [
             0.1111111111111111,
             "#46039f"
            ],
            [
             0.2222222222222222,
             "#7201a8"
            ],
            [
             0.3333333333333333,
             "#9c179e"
            ],
            [
             0.4444444444444444,
             "#bd3786"
            ],
            [
             0.5555555555555556,
             "#d8576b"
            ],
            [
             0.6666666666666666,
             "#ed7953"
            ],
            [
             0.7777777777777778,
             "#fb9f3a"
            ],
            [
             0.8888888888888888,
             "#fdca26"
            ],
            [
             1,
             "#f0f921"
            ]
           ],
           "sequentialminus": [
            [
             0,
             "#0d0887"
            ],
            [
             0.1111111111111111,
             "#46039f"
            ],
            [
             0.2222222222222222,
             "#7201a8"
            ],
            [
             0.3333333333333333,
             "#9c179e"
            ],
            [
             0.4444444444444444,
             "#bd3786"
            ],
            [
             0.5555555555555556,
             "#d8576b"
            ],
            [
             0.6666666666666666,
             "#ed7953"
            ],
            [
             0.7777777777777778,
             "#fb9f3a"
            ],
            [
             0.8888888888888888,
             "#fdca26"
            ],
            [
             1,
             "#f0f921"
            ]
           ]
          },
          "colorway": [
           "#636efa",
           "#EF553B",
           "#00cc96",
           "#ab63fa",
           "#FFA15A",
           "#19d3f3",
           "#FF6692",
           "#B6E880",
           "#FF97FF",
           "#FECB52"
          ],
          "font": {
           "color": "#2a3f5f"
          },
          "geo": {
           "bgcolor": "white",
           "lakecolor": "white",
           "landcolor": "#E5ECF6",
           "showlakes": true,
           "showland": true,
           "subunitcolor": "white"
          },
          "hoverlabel": {
           "align": "left"
          },
          "hovermode": "closest",
          "mapbox": {
           "style": "light"
          },
          "paper_bgcolor": "white",
          "plot_bgcolor": "#E5ECF6",
          "polar": {
           "angularaxis": {
            "gridcolor": "white",
            "linecolor": "white",
            "ticks": ""
           },
           "bgcolor": "#E5ECF6",
           "radialaxis": {
            "gridcolor": "white",
            "linecolor": "white",
            "ticks": ""
           }
          },
          "scene": {
           "xaxis": {
            "backgroundcolor": "#E5ECF6",
            "gridcolor": "white",
            "gridwidth": 2,
            "linecolor": "white",
            "showbackground": true,
            "ticks": "",
            "zerolinecolor": "white"
           },
           "yaxis": {
            "backgroundcolor": "#E5ECF6",
            "gridcolor": "white",
            "gridwidth": 2,
            "linecolor": "white",
            "showbackground": true,
            "ticks": "",
            "zerolinecolor": "white"
           },
           "zaxis": {
            "backgroundcolor": "#E5ECF6",
            "gridcolor": "white",
            "gridwidth": 2,
            "linecolor": "white",
            "showbackground": true,
            "ticks": "",
            "zerolinecolor": "white"
           }
          },
          "shapedefaults": {
           "line": {
            "color": "#2a3f5f"
           }
          },
          "ternary": {
           "aaxis": {
            "gridcolor": "white",
            "linecolor": "white",
            "ticks": ""
           },
           "baxis": {
            "gridcolor": "white",
            "linecolor": "white",
            "ticks": ""
           },
           "bgcolor": "#E5ECF6",
           "caxis": {
            "gridcolor": "white",
            "linecolor": "white",
            "ticks": ""
           }
          },
          "title": {
           "x": 0.05
          },
          "xaxis": {
           "automargin": true,
           "gridcolor": "white",
           "linecolor": "white",
           "ticks": "",
           "title": {
            "standoff": 15
           },
           "zerolinecolor": "white",
           "zerolinewidth": 2
          },
          "yaxis": {
           "automargin": true,
           "gridcolor": "white",
           "linecolor": "white",
           "ticks": "",
           "title": {
            "standoff": 15
           },
           "zerolinecolor": "white",
           "zerolinewidth": 2
          }
         }
        },
        "title": {
         "text": "Scatter Plot of DMA Values Over Years with Warmth Coloring and Jitter"
        },
        "xaxis": {
         "anchor": "y",
         "autorange": true,
         "domain": [
          0,
          1
         ],
         "range": [
          2009.1502271293884,
          2021.108465716232
         ],
         "title": {
          "text": "Year"
         },
         "type": "linear"
        },
        "yaxis": {
         "anchor": "x",
         "autorange": true,
         "domain": [
          0,
          1
         ],
         "range": [
          -0.0831062670299727,
          37.083106267029976
         ],
         "title": {
          "text": "Deer Density"
         },
         "type": "linear"
        }
       }
      },
      "image/png": "[encoded data removed]",
      "text/html": [
       "<div>                            <div id=\"0afff902-0cd3-4d5a-939c-2bbecb35b7e4\" class=\"plotly-graph-div\" style=\"height:800px; width:100%;\"></div>            <script type=\"text/javascript\">                require([\"plotly\"], function(Plotly) {                    window.PLOTLYENV=window.PLOTLYENV || {};                                    if (document.getElementById(\"0afff902-0cd3-4d5a-939c-2bbecb35b7e4\")) {                    Plotly.newPlot(                        \"0afff902-0cd3-4d5a-939c-2bbecb35b7e4\",                        [{\"hovertemplate\":\"Year=%{x}\\u003cbr\\u003eDeer Density=%{y}\\u003cbr\\u003eWarmth=%{marker.color}\\u003cextra\\u003e\\u003c\\u002fextra\\u003e\",\"legendgroup\":\"\",\"marker\":{\"color\":[9.0,9.0,9.0,9.0,9.0,9.0,9.0,9.0,9.0,9.0,9.0,9.0,9.0,9.0,9.0,9.0,9.0,9.0,9.0,9.0,9.0,9.0,9.0,9.0,9.0,9.0,9.0,9.0,9.0,9.0,9.0,9.0,9.0,9.0,9.0,9.0,9.0,9.0,9.0,9.0,9.0,9.0,9.0,9.0,9.0,9.0,9.0,9.0,9.0,9.0,9.0,9.0,1.0,1.0,1.0,9.0,9.0,1.0,9.0,9.0,9.0,9.0,9.0,1.0,9.0,1.0,1.0,1.0,1.0,1.0,1.0,1.0,1.0,1.0,9.0,9.0,9.0,9.0,9.0,9.0,9.0,9.0,9.0,9.0,9.0,9.0,2.0,2.0,2.0,1.0,9.0,9.0,2.0,9.0,9.0,9.0,9.0,9.0,2.0,9.0,2.0,2.0,2.0,2.0,2.0,2.0,2.0,2.0,2.0,1.0,9.0,9.0,9.0,9.0,9.0,9.0,9.0,9.0,9.0,9.0,9.0,9.0,3.0,3.0,3.0,2.0,9.0,9.0,3.0,9.0,9.0,9.0,9.0,9.0,3.0,9.0,3.0,3.0,3.0,3.0,3.0,3.0,3.0,3.0,3.0,2.0,9.0,9.0,9.0,9.0,9.0,9.0,9.0,9.0,9.0,9.0,9.0,9.0,4.0,4.0,4.0,3.0,9.0,9.0,4.0,9.0,9.0,9.0,9.0,9.0,4.0,9.0,4.0,4.0,4.0,4.0,4.0,4.0,4.0,4.0,4.0,3.0,9.0,9.0,9.0,9.0,9.0,9.0,9.0,9.0,9.0,9.0,9.0,9.0,5.0,5.0,5.0,4.0,9.0,9.0,5.0,9.0,9.0,9.0,9.0,9.0,5.0,9.0,5.0,5.0,5.0,5.0,5.0,5.0,5.0,5.0,5.0,4.0,9.0,9.0,9.0,9.0,9.0,9.0,9.0,9.0,9.0,9.0,9.0,9.0,6.0,6.0,6.0,5.0,9.0,9.0,6.0,9.0,9.0,9.0,9.0,9.0,6.0,9.0,6.0,6.0,6.0,6.0,1.0,1.0,1.0,1.0,1.0,1.0,1.0,1.0,1.0,6.0,6.0,1.0,1.0,1.0,6.0,1.0,1.0,1.0,1.0,6.0,6.0,1.0,5.0,9.0,9.0,9.0,9.0,9.0,9.0,9.0,9.0,9.0,9.0,9.0,9.0,7.0,7.0,7.0,6.0,9.0,9.0,7.0,9.0,9.0,9.0,9.0,9.0,7.0,9.0,7.0,7.0,7.0,7.0,2.0,2.0,2.0,2.0,2.0,2.0,2.0,2.0,2.0,7.0,7.0,2.0,2.0,2.0,7.0,2.0,2.0,2.0,2.0,7.0,7.0,2.0,6.0,9.0,9.0,9.0,9.0,9.0,9.0,9.0,9.0,9.0,9.0,9.0,9.0,8.0,8.0,8.0,7.0,9.0,9.0,8.0,9.0,9.0,9.0,9.0,9.0,8.0,9.0,8.0,8.0,8.0,8.0,3.0,3.0,3.0,3.0,3.0,3.0,3.0,3.0,3.0,8.0,8.0,3.0,3.0,3.0,8.0,3.0,3.0,3.0,3.0,8.0,8.0,3.0,7.0,9.0,9.0,9.0,9.0,9.0,9.0,9.0,9.0,9.0,9.0,9.0,9.0,9.0,9.0,9.0,8.0,9.0,9.0,9.0,9.0,9.0,9.0,9.0,9.0,9.0,9.0,9.0,9.0,9.0,9.0,4.0,4.0,4.0,4.0,4.0,4.0,4.0,4.0,4.0,9.0,9.0,4.0,4.0,4.0,9.0,4.0,4.0,4.0,4.0,9.0,9.0,4.0,8.0],\"coloraxis\":\"coloraxis\",\"symbol\":\"circle\"},\"mode\":\"markers\",\"name\":\"\",\"orientation\":\"v\",\"showlegend\":false,\"x\":[2009.9928466506851,2010.2542808688574,2010.1867807133485,2010.0693471707225,2010.0954247802767,2009.7905702347407,2010.0505271481466,2009.814294012191,2010.1571104073334,2010.0550611787435,2009.7887949016142,2009.9437589327006,2009.9702490533068,2009.9400667208204,2010.439886360451,2010.1736538137445,2010.0794486732939,2010.0316326727454,2010.0250502575138,2009.814594526787,2011.422547567465,2011.0263186012062,2010.9318389007458,2011.1167903679054,2011.2395531553175,2011.0729661085254,2010.8814507261181,2010.7597084257798,2010.802726940333,2011.0099060738305,2011.1888625533404,2011.3854732575694,2011.1026236453924,2011.1514855097105,2011.1439104688343,2010.895872630967,2011.1468090400506,2010.9947842513652,2011.1084279198624,2011.2628068459715,2012.0047335509662,2011.6760679669303,2012.1371022637336,2012.0060780614476,2012.2020424006303,2011.840681588349,2012.0001173152325,2011.8922480956978,2012.028995520447,2011.9867507028505,2011.9604055921372,2012.1348001592623,2011.7216384564072,2011.8138569037103,2011.9417914615167,2011.9385087185271,2011.6665820658584,2011.9249563347103,2012.0627615834148,2011.7710653622346,2011.8351619820507,2012.2170293358852,2011.8939791492994,2012.0105113513252,2012.1995895395962,2012.2046451589501,2012.2701754713298,2012.3122974686644,2012.2475692877913,2011.8692185313525,2011.774713627739,2011.9206397911134,2012.2582118874732,2011.8186045429816,2013.1129572368623,2013.1816717666306,2013.4133528675732,2012.850827983051,2013.3175495145708,2013.2611335715421,2013.034629563613,2013.0630912745507,2012.9061495014132,2012.9078487334139,2013.1299786069912,2013.0061979597585,2012.7850869906806,2013.0315090290744,2012.8088360695417,2012.929953044431,2013.0141204404297,2012.91501704041,2013.0438683530367,2013.3243011365719,2012.8837311279322,2012.925899768426,2012.881439426019,2012.9839232645932,2013.0026863148155,2012.992547366157,2013.103327440903,2013.0458777142956,2012.837804211963,2012.861241695802,2013.2299155179355,2012.9927791735945,2013.333378788714,2012.8798811518077,2013.141012907702,2013.1511023875946,2014.262453724895,2013.9412209857273,2014.076025087067,2013.9590116520499,2013.9006739811543,2014.2574040094257,2014.1114893790307,2013.8884099344677,2013.8770678905337,2013.9303474094577,2013.5464303126223,2014.0474791108968,2013.5872599482275,2014.0620281931785,2014.1728848711446,2013.8963901964128,2014.0835944571636,2013.997754607097,2013.7925517034407,2014.429488462594,2013.7126979581087,2014.2793561653925,2014.171976231186,2013.6898614189122,2013.9100207219503,2013.974651932078,2013.747130864228,2014.4064779546115,2013.9603752012683,2014.0160761920567,2013.998032942655,2014.019979069008,2013.7789444046111,2013.6784491666187,2013.6880667985108,2013.932820718054,2015.2815435491111,2015.0697976053493,2015.0929074998683,2014.7907695934073,2015.099545345746,2014.8735277772055,2014.934498950291,2014.8132251581867,2015.1656741066531,2014.9492917957389,2014.865557086739,2015.1523902726453,2014.9957909888337,2014.7595386316934,2014.7839421558388,2014.9649206436268,2014.958086340701,2015.0996445259473,2014.9686294057535,2015.0537352804317,2015.0222330935974,2015.0605702769,2015.2887569342424,2015.1089824782448,2015.03650340903,2014.870787666664,2014.680249632807,2014.9957467885483,2014.8706243199608,2015.0608904770886,2015.0106559389158,2015.0205904432482,2014.9013802989605,2014.9823514248187,2014.9178957000156,2015.1982209327061,2015.8315119475692,2016.1231869537799,2016.0508916111703,2015.8145635100145,2015.8794202678341,2015.9451143110025,2015.8752556613424,2015.9164127708968,2015.915489976661,2016.0353508233356,2015.9453794986703,2015.8822651098503,2015.6539592558065,2015.7375928370734,2016.0991488386678,2016.0555656548345,2015.9355042908298,2016.1227929130162,2015.7991697590714,2016.0866818909333,2015.9587336970926,2016.0328293356683,2016.0835521143288,2016.389672088866,2015.8195776191178,2016.3239756877508,2015.6200837474778,2016.2278514093173,2015.8507010478802,2015.9397780722898,2016.0414545779886,2015.785619034061,2016.0106282148074,2015.872206165589,2015.971772192225,2016.0058139307973,2017.036787538664,2016.9321412428242,2017.1141732341275,2016.9617161869278,2017.1356089351245,2017.0048291202997,2016.8007257724685,2016.9745518350828,2016.8111807445773,2016.7717028472857,2016.7489578179454,2016.9043131775368,2016.749269180358,2016.8758360350241,2017.0076280057433,2016.9424020603092,2017.0725641304784,2016.8739265792183,2016.945248816187,2017.0908116229414,2017.245115673321,2017.0257900148101,2017.069502401309,2016.6661234045916,2017.392393246598,2016.95011818084,2016.91487694453,2016.8674112733909,2016.9767208063392,2017.098405752566,2017.1393756568336,2017.0059999695989,2017.0292166541901,2017.116526383894,2016.813085277762,2017.3133753017992,2016.9183605217877,2016.9009485241459,2016.9883908211066,2016.8705047317724,2017.3589115187901,2017.0731364114392,2017.1264596258586,2016.9496519937481,2016.9807530972466,2016.8248977673036,2016.691696135523,2017.29232815986,2017.0196878569093,2017.2970270922217,2017.4670632039833,2017.1529225123547,2017.1005703990447,2018.2351975519543,2017.967232679251,2018.1857849067476,2017.673549292693,2018.0325508057463,2018.0992740745594,2018.0193699371232,2018.1927041369158,2017.854732021345,2017.883044622065,2017.9156308764395,2017.8785289618281,2018.0582864778937,2017.9734179594714,2018.1664379953695,2018.0568639950206,2018.18555278284,2018.173558094395,2018.1039221184715,2018.3382861991613,2018.1069022753268,2017.8020694879622,2018.5386460705354,2017.8358760168517,2018.111420751719,2017.6647633471453,2017.9477710998772,2017.9791999879587,2017.6929233087176,2018.3134707057409,2017.901287118033,2018.1810848182163,2017.9171651397473,2018.0571521053032,2017.8971443166974,2018.0140483405407,2018.1161009986727,2017.9312970875642,2017.8225280747122,2017.6273354372404,2018.0328401300403,2018.0931662805174,2017.834388627763,2017.7396234755338,2018.2544021290516,2017.634323392573,2017.9117764586933,2018.1312988274644,2018.1488667976043,2018.108012665575,2018.248042266086,2018.1278921668445,2018.171423244087,2018.956859894861,2019.1884709174003,2019.2808225346698,2019.1153853653082,2018.9762525616654,2018.8914723588703,2018.9051451836629,2018.965789405377,2018.7562035097137,2018.8730394572915,2018.7523942966625,2018.9975505948669,2018.9722557832233,2018.8852691963023,2018.9859115525642,2019.1030081539823,2018.8987068999656,2019.0091229764735,2018.881868742513,2018.9684645534192,2019.124084692632,2018.6766352768554,2018.935335744968,2019.1027971319536,2019.0750000009805,2019.0458997965648,2018.991604844235,2018.9244680896466,2019.1702427700773,2018.8107446848041,2019.2985230152735,2018.698047908947,2019.0002982518924,2018.8061891049626,2019.0529515996197,2019.157697321112,2018.7510153742323,2019.2758670727,2019.0566880100598,2018.9439368883213,2018.6315680337675,2019.2804159894804,2018.902767261726,2018.7980063283405,2018.6501131178827,2019.3364622527738,2018.9050382702937,2018.743726686572,2018.8720550197786,2018.7447525534735,2019.0751532877775,2019.066392000999,2018.8900945309388,2019.8956773750738,2020.1394864386443,2019.6549428860392,2020.0304049921704,2019.8459320355812,2019.8474026903468,2020.0943924977373,2019.7857191214673,2020.093818737028,2019.9329457145323,2020.0369029761243,2020.08484534744,2019.8566156074066,2019.9087701916028,2020.3092728126005,2019.8446301841636,2019.9079613387376,2020.0130123913077,2019.855761878715,2020.074757592845,2019.7748173889352,2019.9668292399576,2020.1846784215402,2020.2077393169766,2020.2204818431142,2020.1974806937155,2019.9840187720047,2020.08410018734,2020.0257127645802,2020.0126123169005,2020.2322065545823,2019.9340754887678,2019.8330904754052,2020.0237360962165,2020.4698979440063,2020.3206037613159,2019.9221215924283,2020.2227824886497,2020.058157388167,2019.8238038318623,2019.7555295996851,2020.1666422478263,2020.1333363640786,2020.0161857889634,2019.664723813888,2019.900086723876,2019.922459111414,2019.8226263941738,2019.776653728592,2020.0418446947701,2020.017762500519,2019.8338580818602,2020.3088512893958],\"xaxis\":\"x\",\"y\":[8.0,4.0,18.0,3.0,7.0,7.0,8.0,5.0,5.0,5.0,7.0,13.0,12.0,12.0,12.0,12.0,16.0,14.0,16.0,17.0,7.0,4.0,19.0,3.0,8.0,6.0,9.0,5.0,5.0,4.0,7.0,13.0,14.0,12.0,12.0,12.0,17.0,11.0,17.0,15.0,7.0,4.0,18.0,3.0,7.0,6.0,8.0,5.0,5.0,4.0,8.0,14.0,17.0,16.0,21.0,13.0,11.0,20.0,11.0,13.0,18.0,13.0,14.0,14.0,14.0,13.0,10.0,9.0,10.0,18.0,18.0,23.0,5.0,10.0,6.0,4.0,16.0,3.0,7.0,6.0,8.0,5.0,5.0,4.0,8.0,14.0,17.0,16.0,21.0,14.0,13.0,11.0,20.0,11.0,10.0,15.0,12.0,12.0,13.0,13.0,14.0,10.0,7.0,11.0,19.0,19.0,22.0,5.0,10.0,14.0,7.0,3.0,11.0,2.0,7.0,5.0,6.0,4.0,4.0,4.0,6.0,11.0,13.0,12.0,16.0,13.0,10.0,8.0,17.0,8.0,10.0,12.0,10.0,11.0,13.0,13.0,10.0,9.0,6.0,10.0,16.0,17.0,19.0,5.0,10.0,10.0,8.0,3.0,11.0,2.0,7.0,5.0,6.0,4.0,4.0,4.0,6.0,11.0,13.0,12.0,17.0,14.0,10.0,8.0,17.0,8.0,8.0,14.0,9.0,10.0,12.0,12.0,13.0,8.0,5.0,10.0,17.0,17.0,20.0,5.0,10.0,13.0,9.0,4.0,13.0,3.0,7.0,6.0,7.0,5.0,5.0,4.0,7.0,13.0,14.0,14.0,20.0,15.0,12.0,9.0,14.0,9.0,9.0,14.0,11.0,12.0,15.0,15.0,12.0,9.0,6.0,9.0,20.0,19.0,21.0,5.0,11.0,12.0,8.0,4.0,14.0,3.0,8.0,5.0,6.0,4.0,4.0,4.0,6.0,11.0,11.0,11.0,16.0,17.0,10.0,7.0,15.0,7.0,9.0,15.0,12.0,14.0,15.0,18.0,13.0,10.0,7.0,10.0,33.0,20.0,21.0,22.0,25.0,23.0,15.0,27.0,28.0,22.0,20.0,9.0,11.0,14.0,22.0,12.0,17.0,13.0,7.0,6.0,11.0,4.0,15.0,8.0,5.0,15.0,2.0,8.0,4.0,5.0,4.0,4.0,4.0,5.0,10.0,10.0,10.0,14.0,17.0,9.0,6.0,12.0,6.0,10.0,14.0,14.0,15.0,13.0,20.0,15.0,11.0,8.0,10.0,35.0,22.0,24.0,23.0,28.0,25.0,16.0,29.0,29.0,23.0,21.0,10.0,13.0,14.0,22.0,13.0,19.0,14.0,8.0,6.0,10.0,5.0,15.0,7.0,4.0,14.0,3.0,7.0,4.0,4.0,4.0,4.0,4.0,4.0,9.0,9.0,9.0,12.0,18.0,8.0,5.0,10.0,7.0,9.0,13.0,13.0,15.0,12.0,21.0,16.0,10.0,8.0,9.0,35.0,24.0,26.0,24.0,28.0,27.0,16.0,29.0,30.0,23.0,22.0,11.0,13.0,13.0,21.0,14.0,19.0,13.0,9.0,5.0,10.0,5.0,16.0,7.0,3.0,12.0,3.0,7.0,3.0,3.0,3.0,3.0,4.0,3.0,9.0,10.0,9.0,10.0,17.0,7.0,4.0,10.0,7.0,9.0,14.0,15.0,14.0,12.0,22.0,19.0,8.0,9.0,10.0,33.0,26.0,29.0,25.0,31.0,28.0,17.0,30.0,29.0,25.0,23.0,12.0,14.0,14.0,24.0,15.0,22.0,14.0,8.0,5.0,10.0,6.0,17.0],\"yaxis\":\"y\",\"type\":\"scatter\"}],                        {\"template\":{\"data\":{\"histogram2dcontour\":[{\"type\":\"histogram2dcontour\",\"colorbar\":{\"outlinewidth\":0,\"ticks\":\"\"},\"colorscale\":[[0.0,\"#0d0887\"],[0.1111111111111111,\"#46039f\"],[0.2222222222222222,\"#7201a8\"],[0.3333333333333333,\"#9c179e\"],[0.4444444444444444,\"#bd3786\"],[0.5555555555555556,\"#d8576b\"],[0.6666666666666666,\"#ed7953\"],[0.7777777777777778,\"#fb9f3a\"],[0.8888888888888888,\"#fdca26\"],[1.0,\"#f0f921\"]]}],\"choropleth\":[{\"type\":\"choropleth\",\"colorbar\":{\"outlinewidth\":0,\"ticks\":\"\"}}],\"histogram2d\":[{\"type\":\"histogram2d\",\"colorbar\":{\"outlinewidth\":0,\"ticks\":\"\"},\"colorscale\":[[0.0,\"#0d0887\"],[0.1111111111111111,\"#46039f\"],[0.2222222222222222,\"#7201a8\"],[0.3333333333333333,\"#9c179e\"],[0.4444444444444444,\"#bd3786\"],[0.5555555555555556,\"#d8576b\"],[0.6666666666666666,\"#ed7953\"],[0.7777777777777778,\"#fb9f3a\"],[0.8888888888888888,\"#fdca26\"],[1.0,\"#f0f921\"]]}],\"heatmap\":[{\"type\":\"heatmap\",\"colorbar\":{\"outlinewidth\":0,\"ticks\":\"\"},\"colorscale\":[[0.0,\"#0d0887\"],[0.1111111111111111,\"#46039f\"],[0.2222222222222222,\"#7201a8\"],[0.3333333333333333,\"#9c179e\"],[0.4444444444444444,\"#bd3786\"],[0.5555555555555556,\"#d8576b\"],[0.6666666666666666,\"#ed7953\"],[0.7777777777777778,\"#fb9f3a\"],[0.8888888888888888,\"#fdca26\"],[1.0,\"#f0f921\"]]}],\"heatmapgl\":[{\"type\":\"heatmapgl\",\"colorbar\":{\"outlinewidth\":0,\"ticks\":\"\"},\"colorscale\":[[0.0,\"#0d0887\"],[0.1111111111111111,\"#46039f\"],[0.2222222222222222,\"#7201a8\"],[0.3333333333333333,\"#9c179e\"],[0.4444444444444444,\"#bd3786\"],[0.5555555555555556,\"#d8576b\"],[0.6666666666666666,\"#ed7953\"],[0.7777777777777778,\"#fb9f3a\"],[0.8888888888888888,\"#fdca26\"],[1.0,\"#f0f921\"]]}],\"contourcarpet\":[{\"type\":\"contourcarpet\",\"colorbar\":{\"outlinewidth\":0,\"ticks\":\"\"}}],\"contour\":[{\"type\":\"contour\",\"colorbar\":{\"outlinewidth\":0,\"ticks\":\"\"},\"colorscale\":[[0.0,\"#0d0887\"],[0.1111111111111111,\"#46039f\"],[0.2222222222222222,\"#7201a8\"],[0.3333333333333333,\"#9c179e\"],[0.4444444444444444,\"#bd3786\"],[0.5555555555555556,\"#d8576b\"],[0.6666666666666666,\"#ed7953\"],[0.7777777777777778,\"#fb9f3a\"],[0.8888888888888888,\"#fdca26\"],[1.0,\"#f0f921\"]]}],\"surface\":[{\"type\":\"surface\",\"colorbar\":{\"outlinewidth\":0,\"ticks\":\"\"},\"colorscale\":[[0.0,\"#0d0887\"],[0.1111111111111111,\"#46039f\"],[0.2222222222222222,\"#7201a8\"],[0.3333333333333333,\"#9c179e\"],[0.4444444444444444,\"#bd3786\"],[0.5555555555555556,\"#d8576b\"],[0.6666666666666666,\"#ed7953\"],[0.7777777777777778,\"#fb9f3a\"],[0.8888888888888888,\"#fdca26\"],[1.0,\"#f0f921\"]]}],\"mesh3d\":[{\"type\":\"mesh3d\",\"colorbar\":{\"outlinewidth\":0,\"ticks\":\"\"}}],\"scatter\":[{\"fillpattern\":{\"fillmode\":\"overlay\",\"size\":10,\"solidity\":0.2},\"type\":\"scatter\"}],\"parcoords\":[{\"type\":\"parcoords\",\"line\":{\"colorbar\":{\"outlinewidth\":0,\"ticks\":\"\"}}}],\"scatterpolargl\":[{\"type\":\"scatterpolargl\",\"marker\":{\"colorbar\":{\"outlinewidth\":0,\"ticks\":\"\"}}}],\"bar\":[{\"error_x\":{\"color\":\"#2a3f5f\"},\"error_y\":{\"color\":\"#2a3f5f\"},\"marker\":{\"line\":{\"color\":\"#E5ECF6\",\"width\":0.5},\"pattern\":{\"fillmode\":\"overlay\",\"size\":10,\"solidity\":0.2}},\"type\":\"bar\"}],\"scattergeo\":[{\"type\":\"scattergeo\",\"marker\":{\"colorbar\":{\"outlinewidth\":0,\"ticks\":\"\"}}}],\"scatterpolar\":[{\"type\":\"scatterpolar\",\"marker\":{\"colorbar\":{\"outlinewidth\":0,\"ticks\":\"\"}}}],\"histogram\":[{\"marker\":{\"pattern\":{\"fillmode\":\"overlay\",\"size\":10,\"solidity\":0.2}},\"type\":\"histogram\"}],\"scattergl\":[{\"type\":\"scattergl\",\"marker\":{\"colorbar\":{\"outlinewidth\":0,\"ticks\":\"\"}}}],\"scatter3d\":[{\"type\":\"scatter3d\",\"line\":{\"colorbar\":{\"outlinewidth\":0,\"ticks\":\"\"}},\"marker\":{\"colorbar\":{\"outlinewidth\":0,\"ticks\":\"\"}}}],\"scattermapbox\":[{\"type\":\"scattermapbox\",\"marker\":{\"colorbar\":{\"outlinewidth\":0,\"ticks\":\"\"}}}],\"scatterternary\":[{\"type\":\"scatterternary\",\"marker\":{\"colorbar\":{\"outlinewidth\":0,\"ticks\":\"\"}}}],\"scattercarpet\":[{\"type\":\"scattercarpet\",\"marker\":{\"colorbar\":{\"outlinewidth\":0,\"ticks\":\"\"}}}],\"carpet\":[{\"aaxis\":{\"endlinecolor\":\"#2a3f5f\",\"gridcolor\":\"white\",\"linecolor\":\"white\",\"minorgridcolor\":\"white\",\"startlinecolor\":\"#2a3f5f\"},\"baxis\":{\"endlinecolor\":\"#2a3f5f\",\"gridcolor\":\"white\",\"linecolor\":\"white\",\"minorgridcolor\":\"white\",\"startlinecolor\":\"#2a3f5f\"},\"type\":\"carpet\"}],\"table\":[{\"cells\":{\"fill\":{\"color\":\"#EBF0F8\"},\"line\":{\"color\":\"white\"}},\"header\":{\"fill\":{\"color\":\"#C8D4E3\"},\"line\":{\"color\":\"white\"}},\"type\":\"table\"}],\"barpolar\":[{\"marker\":{\"line\":{\"color\":\"#E5ECF6\",\"width\":0.5},\"pattern\":{\"fillmode\":\"overlay\",\"size\":10,\"solidity\":0.2}},\"type\":\"barpolar\"}],\"pie\":[{\"automargin\":true,\"type\":\"pie\"}]},\"layout\":{\"autotypenumbers\":\"strict\",\"colorway\":[\"#636efa\",\"#EF553B\",\"#00cc96\",\"#ab63fa\",\"#FFA15A\",\"#19d3f3\",\"#FF6692\",\"#B6E880\",\"#FF97FF\",\"#FECB52\"],\"font\":{\"color\":\"#2a3f5f\"},\"hovermode\":\"closest\",\"hoverlabel\":{\"align\":\"left\"},\"paper_bgcolor\":\"white\",\"plot_bgcolor\":\"#E5ECF6\",\"polar\":{\"bgcolor\":\"#E5ECF6\",\"angularaxis\":{\"gridcolor\":\"white\",\"linecolor\":\"white\",\"ticks\":\"\"},\"radialaxis\":{\"gridcolor\":\"white\",\"linecolor\":\"white\",\"ticks\":\"\"}},\"ternary\":{\"bgcolor\":\"#E5ECF6\",\"aaxis\":{\"gridcolor\":\"white\",\"linecolor\":\"white\",\"ticks\":\"\"},\"baxis\":{\"gridcolor\":\"white\",\"linecolor\":\"white\",\"ticks\":\"\"},\"caxis\":{\"gridcolor\":\"white\",\"linecolor\":\"white\",\"ticks\":\"\"}},\"coloraxis\":{\"colorbar\":{\"outlinewidth\":0,\"ticks\":\"\"}},\"colorscale\":{\"sequential\":[[0.0,\"#0d0887\"],[0.1111111111111111,\"#46039f\"],[0.2222222222222222,\"#7201a8\"],[0.3333333333333333,\"#9c179e\"],[0.4444444444444444,\"#bd3786\"],[0.5555555555555556,\"#d8576b\"],[0.6666666666666666,\"#ed7953\"],[0.7777777777777778,\"#fb9f3a\"],[0.8888888888888888,\"#fdca26\"],[1.0,\"#f0f921\"]],\"sequentialminus\":[[0.0,\"#0d0887\"],[0.1111111111111111,\"#46039f\"],[0.2222222222222222,\"#7201a8\"],[0.3333333333333333,\"#9c179e\"],[0.4444444444444444,\"#bd3786\"],[0.5555555555555556,\"#d8576b\"],[0.6666666666666666,\"#ed7953\"],[0.7777777777777778,\"#fb9f3a\"],[0.8888888888888888,\"#fdca26\"],[1.0,\"#f0f921\"]],\"diverging\":[[0,\"#8e0152\"],[0.1,\"#c51b7d\"],[0.2,\"#de77ae\"],[0.3,\"#f1b6da\"],[0.4,\"#fde0ef\"],[0.5,\"#f7f7f7\"],[0.6,\"#e6f5d0\"],[0.7,\"#b8e186\"],[0.8,\"#7fbc41\"],[0.9,\"#4d9221\"],[1,\"#276419\"]]},\"xaxis\":{\"gridcolor\":\"white\",\"linecolor\":\"white\",\"ticks\":\"\",\"title\":{\"standoff\":15},\"zerolinecolor\":\"white\",\"automargin\":true,\"zerolinewidth\":2},\"yaxis\":{\"gridcolor\":\"white\",\"linecolor\":\"white\",\"ticks\":\"\",\"title\":{\"standoff\":15},\"zerolinecolor\":\"white\",\"automargin\":true,\"zerolinewidth\":2},\"scene\":{\"xaxis\":{\"backgroundcolor\":\"#E5ECF6\",\"gridcolor\":\"white\",\"linecolor\":\"white\",\"showbackground\":true,\"ticks\":\"\",\"zerolinecolor\":\"white\",\"gridwidth\":2},\"yaxis\":{\"backgroundcolor\":\"#E5ECF6\",\"gridcolor\":\"white\",\"linecolor\":\"white\",\"showbackground\":true,\"ticks\":\"\",\"zerolinecolor\":\"white\",\"gridwidth\":2},\"zaxis\":{\"backgroundcolor\":\"#E5ECF6\",\"gridcolor\":\"white\",\"linecolor\":\"white\",\"showbackground\":true,\"ticks\":\"\",\"zerolinecolor\":\"white\",\"gridwidth\":2}},\"shapedefaults\":{\"line\":{\"color\":\"#2a3f5f\"}},\"annotationdefaults\":{\"arrowcolor\":\"#2a3f5f\",\"arrowhead\":0,\"arrowwidth\":1},\"geo\":{\"bgcolor\":\"white\",\"landcolor\":\"#E5ECF6\",\"subunitcolor\":\"white\",\"showland\":true,\"showlakes\":true,\"lakecolor\":\"white\"},\"title\":{\"x\":0.05},\"mapbox\":{\"style\":\"light\"}}},\"xaxis\":{\"anchor\":\"y\",\"domain\":[0.0,1.0],\"title\":{\"text\":\"Year\"}},\"yaxis\":{\"anchor\":\"x\",\"domain\":[0.0,1.0],\"title\":{\"text\":\"Deer Density\"}},\"coloraxis\":{\"colorbar\":{\"title\":{\"text\":\"Warmth\"},\"lenmode\":\"fraction\",\"len\":0.65},\"colorscale\":[[0.0,\"rgb(41, 24, 107)\"],[0.09090909090909091,\"rgb(42, 35, 160)\"],[0.18181818181818182,\"rgb(15, 71, 153)\"],[0.2727272727272727,\"rgb(18, 95, 142)\"],[0.36363636363636365,\"rgb(38, 116, 137)\"],[0.45454545454545453,\"rgb(53, 136, 136)\"],[0.5454545454545454,\"rgb(65, 157, 133)\"],[0.6363636363636364,\"rgb(81, 178, 124)\"],[0.7272727272727273,\"rgb(111, 198, 107)\"],[0.8181818181818182,\"rgb(160, 214, 91)\"],[0.9090909090909091,\"rgb(212, 225, 112)\"],[1.0,\"rgb(253, 238, 153)\"]]},\"legend\":{\"tracegroupgap\":0},\"title\":{\"text\":\"Scatter Plot of DMA Values Over Years with Warmth Coloring and Jitter\"},\"height\":800},                        {\"responsive\": true}                    ).then(function(){\n",
       "                            \n",
       "var gd = document.getElementById('0afff902-0cd3-4d5a-939c-2bbecb35b7e4');\n",
       "var x = new MutationObserver(function (mutations, observer) {{\n",
       "        var display = window.getComputedStyle(gd).display;\n",
       "        if (!display || display === 'none') {{\n",
       "            console.log([gd, 'removed!']);\n",
       "            Plotly.purge(gd);\n",
       "            observer.disconnect();\n",
       "        }}\n",
       "}});\n",
       "\n",
       "// Listen for the removal of the full notebook cells\n",
       "var notebookContainer = gd.closest('#notebook-container');\n",
       "if (notebookContainer) {{\n",
       "    x.observe(notebookContainer, {childList: true});\n",
       "}}\n",
       "\n",
       "// Listen for the clearing of the current output cell\n",
       "var outputEl = gd.closest('.output');\n",
       "if (outputEl) {{\n",
       "    x.observe(outputEl, {childList: true});\n",
       "}}\n",
       "\n",
       "                        })                };                });            </script>        </div>"
      ]
     },
     "metadata": {},
     "output_type": "display_data"
    }
   ],
   "source": [
    "# Add jitter to the Year values\n",
    "df_melted['Year'] += np.random.uniform(-0.1, 0.1, size=len(df_melted))\n",
    "\n",
    "# Create a scatter plot with jitter and color based on warmth\n",
    "fig = px.scatter(df_melted, x='Year', y='Deer Density', color='Warmth', color_continuous_scale='haline', title='Scatter Plot of DMA Values Over Years with Warmth Coloring and Jitter')\n",
    "\n",
    "# # Add yearly average lines\n",
    "# fig.add_trace(go.Scatter(x=yearly_avg['Year'], y=yearly_avg['Deer Density'], mode='lines+markers', name='Yearly Average', line=dict(color='black', width=2)))\n",
    "# fig.add_trace(go.Scatter(x=avg_2010['Year'], y=avg_2010['Deer Density'], mode='lines+markers', name='Avg Starting 2010', line=dict(color='pink', width=2)))\n",
    "# fig.add_trace(go.Scatter(x=avg_2012['Year'], y=avg_2012['Deer Density'], mode='lines+markers', name='Avg Starting 2012', line=dict(color='grey', width=2)))\n",
    "# fig.add_trace(go.Scatter(x=avg_2017['Year'], y=avg_2017['Deer Density'], mode='lines+markers', name='Avg Starting 2017', line=dict(color='blue', width=2)))\n",
    "fig.update_layout(height=800)\n",
    "\n",
    "fig.update_layout(coloraxis_colorbar=dict(lenmode=\"fraction\", len=0.65))\n",
    "\n",
    "fig.show()\n"
   ]
  },
  {
   "cell_type": "code",
   "execution_count": 7,
   "id": "9f49e997-ba8e-434a-a4f5-936bf88be170",
   "metadata": {
    "tags": []
   },
   "outputs": [
    {
     "data": {
      "image/png": "[encoded data removed]",
      "text/plain": [
       "<Figure size 1000x600 with 1 Axes>"
      ]
     },
     "metadata": {},
     "output_type": "display_data"
    }
   ],
   "source": [
    "jitter_strength = 0.1\n",
    "df_melted['Warmth_jitter'] = df_melted['Warmth'] + np.random.uniform(-jitter_strength,jitter_strength,len(df_melted))\n",
    "\n",
    "# Create a scatter plot of warmth and value present with jitter and regression line\n",
    "plt.figure(figsize=(10))\n",
    "sns.scatterplot(x='Warmth_jitter', y='Deer Density', data=df_melted)\n",
    "sns.regplot(x='Warmth_jitter', y='Deer Density', data=df_melted)\n",
    "plt.title('Scatter Plot of Warmth and Value Present with Jitter and Regression Line')\n",
    "plt.show()\n",
    "\n"
   ]
  },
  {
   "cell_type": "code",
   "execution_count": 37,
   "id": "a082e3a4-6dd2-44ee-9e2f-f7023a10e214",
   "metadata": {},
   "outputs": [
    {
     "data": {
      "application/vnd.plotly.v1+json": {
       "config": {
        "plotlyServerURL": "https://plot.ly"
       },
       "data": [
        {
         "hovertemplate": "Warmth_jitter=%{x}<br>Deer Density=%{y}<extra></extra>",
         "legendgroup": "",
         "marker": {
          "color": "#636efa",
          "symbol": "circle"
         },
         "mode": "markers",
         "name": "",
         "orientation": "v",
         "showlegend": false,
         "type": "scatter",
         "x": [
          8.95681704219879,
          9.085666202187772,
          9.045542743452385,
          9.083914478561685,
          8.948459064573436,
          9.079635524884685,
          8.91298775947791,
          9.00667063593404,
          8.993532920655126,
          9.06243592054018,
          9.084530718813534,
          8.997249095815862,
          8.90468541204837,
          9.094817565288027,
          9.014639362380986,
          8.92101441865429,
          8.942488101130378,
          9.032223542509353,
          8.953730311107428,
          8.911128428377868,
          9.060038330104186,
          8.985315660617081,
          8.990992847525265,
          9.011500498988699,
          9.057716860261642,
          8.962844708260757,
          9.063128010091575,
          9.057714854245264,
          9.06211803496288,
          9.070419022433635,
          8.95914743134466,
          8.940966569798803,
          8.954021148168678,
          8.971753128164837,
          8.927245100619972,
          9.066104054525956,
          9.009807068700928,
          9.085368220153315,
          8.971294323159299,
          8.982452548789311,
          8.968115376865299,
          9.077237683882306,
          9.002162759719717,
          8.961556441044767,
          9.03221898500489,
          9.047161999472609,
          8.980934706172006,
          9.08138989563132,
          8.976110634260552,
          9.072001234312689,
          9.00615722757509,
          9.002386238984437,
          0.9611738939970295,
          1.0266255250293308,
          1.0132928578783642,
          9.033672094063215,
          8.988583983913683,
          0.9674327418558125,
          8.96046872137451,
          8.900430163037305,
          9.055914378589085,
          8.935817057447125,
          9.095894116340393,
          1.0708844289327906,
          9.045267358752108,
          0.9917907683957042,
          0.9194710911691885,
          1.048673347856325,
          1.0583535921364424,
          0.9775433261969545,
          1.0408829479402204,
          1.0776984646256074,
          1.0694847605778195,
          1.0673547326407316,
          9.054714179984943,
          9.079198565089621,
          9.033408340762918,
          9.033860100017874,
          9.080865847575767,
          8.997472683693431,
          9.080324960493202,
          8.904043452266581,
          9.055351699161827,
          8.917465483526513,
          9.033620477844574,
          8.901442896693222,
          1.921109067299498,
          2.0282415571321684,
          2.0382715911916263,
          0.9922399617105873,
          9.060147879353298,
          9.074778468343391,
          1.9031457096194826,
          9.034871049693347,
          8.97600378427477,
          8.932413726485441,
          8.936880130497226,
          9.082587140318429,
          2.0089470964441474,
          9.09750506072399,
          1.9116511234500717,
          1.9126935677419863,
          2.0626480464361503,
          1.9084338027543397,
          1.9946295793268254,
          2.0544127724084036,
          1.9531458626630218,
          1.9491459209069861,
          2.001364412625116,
          1.0848151257572378,
          9.04124798448658,
          9.038847434307865,
          9.025708155526,
          9.060400971823048,
          8.945983228024215,
          8.915666728142845,
          9.077810561205812,
          8.947468258453666,
          8.951434550027347,
          9.006561736706423,
          9.02437842639655,
          8.920289362976947,
          2.9695775322606948,
          2.9839335839963343,
          2.998322363592516,
          2.0204406450777954,
          8.940007888680364,
          8.936074206537882,
          3.0318740890107554,
          8.955719725564176,
          8.912637380878584,
          8.989757649062472,
          8.925342264612018,
          9.049242432811177,
          2.9820789792894096,
          8.912205860119949,
          2.926155043423834,
          2.9004736142901746,
          2.969415591594438,
          3.001674296009565,
          3.074517971367533,
          2.937599118126429,
          3.013671897423243,
          2.974335602763413,
          3.0342982802792418,
          1.9297135811405235,
          9.096219038807494,
          9.056720504882358,
          9.002766213796052,
          9.028927736284686,
          8.915295242196441,
          8.96870980548181,
          8.94819920055356,
          8.957291607441174,
          9.06596235646025,
          8.91516865881755,
          8.901041725840715,
          9.058134866800877,
          3.934543304229231,
          4.092179587038683,
          3.974921196027618,
          2.9339239844150047,
          8.990844805184855,
          8.957124293785746,
          3.966266659240623,
          8.99402767605736,
          8.921477287109454,
          9.015302351229913,
          8.961433166079015,
          9.085743810632913,
          4.0562638653790435,
          8.989117549093853,
          4.022751884386375,
          3.980756028612581,
          3.9197583687295543,
          3.978984586532636,
          3.949227171525396,
          3.911430826734712,
          3.9202564107466573,
          3.947549089278903,
          4.017337855447812,
          3.0664285170821772,
          8.977622750929246,
          8.919001608334629,
          8.911922241162948,
          9.012822179373671,
          8.99638561065165,
          9.040033463090683,
          9.098583603948613,
          9.088919185145716,
          8.985300556783814,
          8.91366140769837,
          9.062554143100785,
          9.03966168981429,
          5.034438968124354,
          4.983918625556439,
          4.9131806849143125,
          4.004121507559262,
          9.06139561461811,
          8.996089158598437,
          4.942433724069372,
          9.066581421170504,
          9.089413797517077,
          9.033684376725706,
          9.047520265663266,
          8.973400011053272,
          5.028957677332141,
          8.976445873774182,
          5.012847980766331,
          4.93393976385633,
          5.080710910335321,
          5.011063390399939,
          5.028096388220436,
          5.037267993217598,
          5.080126949203937,
          4.908959979335957,
          4.978457189162502,
          3.9704932192564226,
          9.089975607212217,
          8.964233658331775,
          9.022324747322362,
          8.97684860890798,
          9.08621183647114,
          8.921247732054345,
          8.963281835326075,
          8.91244250385076,
          9.067392296914452,
          9.073676282633953,
          8.960046927056805,
          9.025044618390142,
          5.9164305106211454,
          5.994948914098752,
          5.946563730282938,
          5.09891791449949,
          9.029521596327381,
          9.042185431304414,
          5.916187751107551,
          8.90550308800076,
          9.099850021155031,
          9.029919570608712,
          9.086102685874893,
          9.0001142617286,
          5.9399291920849455,
          8.983433333420882,
          5.911165028362036,
          6.030872467335221,
          5.925385877714465,
          5.994312533411304,
          0.9475099656067575,
          0.9843644126322725,
          1.0450270414515785,
          1.0518214238651757,
          0.9137195720500546,
          1.0896281775451222,
          0.9117003234800355,
          1.057921760511384,
          1.0443935919858742,
          5.9861372551488365,
          6.099911157915544,
          0.9213700158314522,
          0.9215485353053473,
          1.007719644934843,
          5.928384514561479,
          0.9114063016315685,
          1.0096988173603587,
          0.9859969811801853,
          1.094984943235502,
          5.964739612029216,
          5.990612566385168,
          1.035232262973204,
          5.018309363776057,
          9.079854960927953,
          9.00980608399951,
          9.07929041491752,
          8.930661095751528,
          9.093756610556635,
          8.979997271278132,
          8.953058893233738,
          8.965965903736027,
          8.91738475654879,
          9.045224189940605,
          8.919947848520444,
          9.007694370144542,
          7.087638574473197,
          7.064519599353127,
          6.918463864874709,
          5.963970098612302,
          8.920418293629753,
          8.944492001549271,
          7.007458274933196,
          8.918142763080196,
          8.981237328142207,
          9.068870870034289,
          8.94271249324492,
          9.09096726608918,
          7.036838904878156,
          8.944819445672135,
          6.937184167862312,
          7.013712815627927,
          7.023510396759428,
          7.095161296403633,
          1.978897118267547,
          2.09739749170883,
          1.9376762540200947,
          2.0176327690027898,
          2.0278767728888383,
          2.094108508229445,
          2.0211629396059085,
          2.023744429820098,
          2.0541032157215504,
          7.098915526466545,
          7.061842238332864,
          2.044825156513454,
          1.9089147612033965,
          2.087410209239849,
          7.057570846755033,
          1.9658620085046927,
          2.077565941030606,
          2.0815282831813224,
          2.009578385252533,
          7.041656697081457,
          7.05215065011648,
          1.9348466824181956,
          5.985397048052109,
          9.099488629686475,
          8.956833735633309,
          9.09033255616952,
          8.937108676613951,
          9.043410776874914,
          9.053716222150843,
          8.956217121198284,
          8.900462736937929,
          8.91242271969057,
          9.032117579155985,
          8.958180413782452,
          8.938537492312301,
          8.008737605405235,
          7.915080043125508,
          7.967453961219505,
          6.951389685115142,
          8.937218743607403,
          8.955134536079537,
          8.065756873340863,
          9.051112508929155,
          9.048256144973656,
          8.974755343110955,
          9.007055501799908,
          8.969915565253501,
          8.08281765464201,
          8.919932295884767,
          7.992981730542808,
          7.974495951729524,
          8.068303700134708,
          8.088779676698568,
          3.045130898446252,
          3.0118369978924817,
          3.029536204574076,
          3.0313596303198196,
          2.9444933044080455,
          2.9134553863873505,
          2.9245986040851673,
          3.0666594226934016,
          3.0743767479128015,
          8.087990075135309,
          8.009767176002347,
          2.920573274386971,
          3.0185555301800555,
          3.034337139096486,
          8.024215589250906,
          3.0759412668311414,
          2.9255653334526377,
          2.9730676366819044,
          2.94009688289028,
          7.911911858541042,
          8.09135837218198,
          2.958573136386557,
          7.060334594347945,
          9.033081778208214,
          9.076775245344253,
          9.091756901615897,
          8.958098665637548,
          9.049691284214987,
          8.940949571328991,
          8.94142411544881,
          8.917798186967413,
          9.0649164194161,
          9.028696988262508,
          8.99701805950782,
          9.074922318165019,
          9.060420590270542,
          8.95437881582139,
          9.098183164259956,
          8.083857098910839,
          9.069692973980912,
          9.002296821889184,
          9.010203804606117,
          8.997892372891219,
          8.90152915358245,
          9.028677830973248,
          8.965381117184176,
          8.95999891387895,
          9.065381698247219,
          8.971777118197355,
          8.93469389152787,
          8.939363765963382,
          8.920250879455406,
          9.025362825209063,
          3.993834027971214,
          3.916217832662414,
          3.9319837662630923,
          4.079811807495677,
          3.977758613261916,
          4.065259188005602,
          3.9370578989384613,
          4.067335632746881,
          3.9132538393735348,
          9.024447547395896,
          9.053165467798795,
          3.9335533063528154,
          3.92831250593389,
          4.015773689344314,
          8.928682911366275,
          3.975636895699464,
          3.972057273970529,
          3.9503839563081553,
          4.001395375464345,
          8.966364921784121,
          9.09491920239268,
          3.919744862202941,
          7.980385319058122
         ],
         "xaxis": "x",
         "y": [
          8,
          4,
          18,
          3,
          7,
          7,
          8,
          5,
          5,
          5,
          7,
          13,
          12,
          12,
          12,
          12,
          16,
          14,
          16,
          17,
          7,
          4,
          19,
          3,
          8,
          6,
          9,
          5,
          5,
          4,
          7,
          13,
          14,
          12,
          12,
          12,
          17,
          11,
          17,
          15,
          7,
          4,
          18,
          3,
          7,
          6,
          8,
          5,
          5,
          4,
          8,
          14,
          17,
          16,
          21,
          13,
          11,
          20,
          11,
          13,
          18,
          13,
          14,
          14,
          14,
          13,
          10,
          9,
          10,
          18,
          18,
          23,
          5,
          10,
          6,
          4,
          16,
          3,
          7,
          6,
          8,
          5,
          5,
          4,
          8,
          14,
          17,
          16,
          21,
          14,
          13,
          11,
          20,
          11,
          10,
          15,
          12,
          12,
          13,
          13,
          14,
          10,
          7,
          11,
          19,
          19,
          22,
          5,
          10,
          14,
          7,
          3,
          11,
          2,
          7,
          5,
          6,
          4,
          4,
          4,
          6,
          11,
          13,
          12,
          16,
          13,
          10,
          8,
          17,
          8,
          10,
          12,
          10,
          11,
          13,
          13,
          10,
          9,
          6,
          10,
          16,
          17,
          19,
          5,
          10,
          10,
          8,
          3,
          11,
          2,
          7,
          5,
          6,
          4,
          4,
          4,
          6,
          11,
          13,
          12,
          17,
          14,
          10,
          8,
          17,
          8,
          8,
          14,
          9,
          10,
          12,
          12,
          13,
          8,
          5,
          10,
          17,
          17,
          20,
          5,
          10,
          13,
          9,
          4,
          13,
          3,
          7,
          6,
          7,
          5,
          5,
          4,
          7,
          13,
          14,
          14,
          20,
          15,
          12,
          9,
          14,
          9,
          9,
          14,
          11,
          12,
          15,
          15,
          12,
          9,
          6,
          9,
          20,
          19,
          21,
          5,
          11,
          12,
          8,
          4,
          14,
          3,
          8,
          5,
          6,
          4,
          4,
          4,
          6,
          11,
          11,
          11,
          16,
          17,
          10,
          7,
          15,
          7,
          9,
          15,
          12,
          14,
          15,
          18,
          13,
          10,
          7,
          10,
          33,
          20,
          21,
          22,
          25,
          23,
          15,
          27,
          28,
          22,
          20,
          9,
          11,
          14,
          22,
          12,
          17,
          13,
          7,
          6,
          11,
          4,
          15,
          8,
          5,
          15,
          2,
          8,
          4,
          5,
          4,
          4,
          4,
          5,
          10,
          10,
          10,
          14,
          17,
          9,
          6,
          12,
          6,
          10,
          14,
          14,
          15,
          13,
          20,
          15,
          11,
          8,
          10,
          35,
          22,
          24,
          23,
          28,
          25,
          16,
          29,
          29,
          23,
          21,
          10,
          13,
          14,
          22,
          13,
          19,
          14,
          8,
          6,
          10,
          5,
          15,
          7,
          4,
          14,
          3,
          7,
          4,
          4,
          4,
          4,
          4,
          4,
          9,
          9,
          9,
          12,
          18,
          8,
          5,
          10,
          7,
          9,
          13,
          13,
          15,
          12,
          21,
          16,
          10,
          8,
          9,
          35,
          24,
          26,
          24,
          28,
          27,
          16,
          29,
          30,
          23,
          22,
          11,
          13,
          13,
          21,
          14,
          19,
          13,
          9,
          5,
          10,
          5,
          16,
          7,
          3,
          12,
          3,
          7,
          3,
          3,
          3,
          3,
          4,
          3,
          9,
          10,
          9,
          10,
          17,
          7,
          4,
          10,
          7,
          9,
          14,
          15,
          14,
          12,
          22,
          19,
          8,
          9,
          10,
          33,
          26,
          29,
          25,
          31,
          28,
          17,
          30,
          29,
          25,
          23,
          12,
          14,
          14,
          24,
          15,
          22,
          14,
          8,
          5,
          10,
          6,
          17
         ],
         "yaxis": "y"
        },
        {
         "mode": "lines",
         "name": "Regression Line",
         "type": "scatter",
         "x": [
          8.95681704219879,
          9.085666202187772,
          9.045542743452385,
          9.083914478561685,
          8.948459064573436,
          9.079635524884685,
          8.91298775947791,
          9.00667063593404,
          8.993532920655126,
          9.06243592054018,
          9.084530718813534,
          8.997249095815862,
          8.90468541204837,
          9.094817565288027,
          9.014639362380986,
          8.92101441865429,
          8.942488101130378,
          9.032223542509353,
          8.953730311107428,
          8.911128428377868,
          9.060038330104186,
          8.985315660617081,
          8.990992847525265,
          9.011500498988699,
          9.057716860261642,
          8.962844708260757,
          9.063128010091575,
          9.057714854245264,
          9.06211803496288,
          9.070419022433635,
          8.95914743134466,
          8.940966569798803,
          8.954021148168678,
          8.971753128164837,
          8.927245100619972,
          9.066104054525956,
          9.009807068700928,
          9.085368220153315,
          8.971294323159299,
          8.982452548789311,
          8.968115376865299,
          9.077237683882306,
          9.002162759719717,
          8.961556441044767,
          9.03221898500489,
          9.047161999472609,
          8.980934706172006,
          9.08138989563132,
          8.976110634260552,
          9.072001234312689,
          9.00615722757509,
          9.002386238984437,
          0.9611738939970295,
          1.0266255250293308,
          1.0132928578783642,
          9.033672094063215,
          8.988583983913683,
          0.9674327418558125,
          8.96046872137451,
          8.900430163037305,
          9.055914378589085,
          8.935817057447125,
          9.095894116340393,
          1.0708844289327906,
          9.045267358752108,
          0.9917907683957042,
          0.9194710911691885,
          1.048673347856325,
          1.0583535921364424,
          0.9775433261969545,
          1.0408829479402204,
          1.0776984646256074,
          1.0694847605778195,
          1.0673547326407316,
          9.054714179984943,
          9.079198565089621,
          9.033408340762918,
          9.033860100017874,
          9.080865847575767,
          8.997472683693431,
          9.080324960493202,
          8.904043452266581,
          9.055351699161827,
          8.917465483526513,
          9.033620477844574,
          8.901442896693222,
          1.921109067299498,
          2.0282415571321684,
          2.0382715911916263,
          0.9922399617105873,
          9.060147879353298,
          9.074778468343391,
          1.9031457096194826,
          9.034871049693347,
          8.97600378427477,
          8.932413726485441,
          8.936880130497226,
          9.082587140318429,
          2.0089470964441474,
          9.09750506072399,
          1.9116511234500717,
          1.9126935677419863,
          2.0626480464361503,
          1.9084338027543397,
          1.9946295793268254,
          2.0544127724084036,
          1.9531458626630218,
          1.9491459209069861,
          2.001364412625116,
          1.0848151257572378,
          9.04124798448658,
          9.038847434307865,
          9.025708155526,
          9.060400971823048,
          8.945983228024215,
          8.915666728142845,
          9.077810561205812,
          8.947468258453666,
          8.951434550027347,
          9.006561736706423,
          9.02437842639655,
          8.920289362976947,
          2.9695775322606948,
          2.9839335839963343,
          2.998322363592516,
          2.0204406450777954,
          8.940007888680364,
          8.936074206537882,
          3.0318740890107554,
          8.955719725564176,
          8.912637380878584,
          8.989757649062472,
          8.925342264612018,
          9.049242432811177,
          2.9820789792894096,
          8.912205860119949,
          2.926155043423834,
          2.9004736142901746,
          2.969415591594438,
          3.001674296009565,
          3.074517971367533,
          2.937599118126429,
          3.013671897423243,
          2.974335602763413,
          3.0342982802792418,
          1.9297135811405235,
          9.096219038807494,
          9.056720504882358,
          9.002766213796052,
          9.028927736284686,
          8.915295242196441,
          8.96870980548181,
          8.94819920055356,
          8.957291607441174,
          9.06596235646025,
          8.91516865881755,
          8.901041725840715,
          9.058134866800877,
          3.934543304229231,
          4.092179587038683,
          3.974921196027618,
          2.9339239844150047,
          8.990844805184855,
          8.957124293785746,
          3.966266659240623,
          8.99402767605736,
          8.921477287109454,
          9.015302351229913,
          8.961433166079015,
          9.085743810632913,
          4.0562638653790435,
          8.989117549093853,
          4.022751884386375,
          3.980756028612581,
          3.9197583687295543,
          3.978984586532636,
          3.949227171525396,
          3.911430826734712,
          3.9202564107466573,
          3.947549089278903,
          4.017337855447812,
          3.0664285170821772,
          8.977622750929246,
          8.919001608334629,
          8.911922241162948,
          9.012822179373671,
          8.99638561065165,
          9.040033463090683,
          9.098583603948613,
          9.088919185145716,
          8.985300556783814,
          8.91366140769837,
          9.062554143100785,
          9.03966168981429,
          5.034438968124354,
          4.983918625556439,
          4.9131806849143125,
          4.004121507559262,
          9.06139561461811,
          8.996089158598437,
          4.942433724069372,
          9.066581421170504,
          9.089413797517077,
          9.033684376725706,
          9.047520265663266,
          8.973400011053272,
          5.028957677332141,
          8.976445873774182,
          5.012847980766331,
          4.93393976385633,
          5.080710910335321,
          5.011063390399939,
          5.028096388220436,
          5.037267993217598,
          5.080126949203937,
          4.908959979335957,
          4.978457189162502,
          3.9704932192564226,
          9.089975607212217,
          8.964233658331775,
          9.022324747322362,
          8.97684860890798,
          9.08621183647114,
          8.921247732054345,
          8.963281835326075,
          8.91244250385076,
          9.067392296914452,
          9.073676282633953,
          8.960046927056805,
          9.025044618390142,
          5.9164305106211454,
          5.994948914098752,
          5.946563730282938,
          5.09891791449949,
          9.029521596327381,
          9.042185431304414,
          5.916187751107551,
          8.90550308800076,
          9.099850021155031,
          9.029919570608712,
          9.086102685874893,
          9.0001142617286,
          5.9399291920849455,
          8.983433333420882,
          5.911165028362036,
          6.030872467335221,
          5.925385877714465,
          5.994312533411304,
          0.9475099656067575,
          0.9843644126322725,
          1.0450270414515785,
          1.0518214238651757,
          0.9137195720500546,
          1.0896281775451222,
          0.9117003234800355,
          1.057921760511384,
          1.0443935919858742,
          5.9861372551488365,
          6.099911157915544,
          0.9213700158314522,
          0.9215485353053473,
          1.007719644934843,
          5.928384514561479,
          0.9114063016315685,
          1.0096988173603587,
          0.9859969811801853,
          1.094984943235502,
          5.964739612029216,
          5.990612566385168,
          1.035232262973204,
          5.018309363776057,
          9.079854960927953,
          9.00980608399951,
          9.07929041491752,
          8.930661095751528,
          9.093756610556635,
          8.979997271278132,
          8.953058893233738,
          8.965965903736027,
          8.91738475654879,
          9.045224189940605,
          8.919947848520444,
          9.007694370144542,
          7.087638574473197,
          7.064519599353127,
          6.918463864874709,
          5.963970098612302,
          8.920418293629753,
          8.944492001549271,
          7.007458274933196,
          8.918142763080196,
          8.981237328142207,
          9.068870870034289,
          8.94271249324492,
          9.09096726608918,
          7.036838904878156,
          8.944819445672135,
          6.937184167862312,
          7.013712815627927,
          7.023510396759428,
          7.095161296403633,
          1.978897118267547,
          2.09739749170883,
          1.9376762540200947,
          2.0176327690027898,
          2.0278767728888383,
          2.094108508229445,
          2.0211629396059085,
          2.023744429820098,
          2.0541032157215504,
          7.098915526466545,
          7.061842238332864,
          2.044825156513454,
          1.9089147612033965,
          2.087410209239849,
          7.057570846755033,
          1.9658620085046927,
          2.077565941030606,
          2.0815282831813224,
          2.009578385252533,
          7.041656697081457,
          7.05215065011648,
          1.9348466824181956,
          5.985397048052109,
          9.099488629686475,
          8.956833735633309,
          9.09033255616952,
          8.937108676613951,
          9.043410776874914,
          9.053716222150843,
          8.956217121198284,
          8.900462736937929,
          8.91242271969057,
          9.032117579155985,
          8.958180413782452,
          8.938537492312301,
          8.008737605405235,
          7.915080043125508,
          7.967453961219505,
          6.951389685115142,
          8.937218743607403,
          8.955134536079537,
          8.065756873340863,
          9.051112508929155,
          9.048256144973656,
          8.974755343110955,
          9.007055501799908,
          8.969915565253501,
          8.08281765464201,
          8.919932295884767,
          7.992981730542808,
          7.974495951729524,
          8.068303700134708,
          8.088779676698568,
          3.045130898446252,
          3.0118369978924817,
          3.029536204574076,
          3.0313596303198196,
          2.9444933044080455,
          2.9134553863873505,
          2.9245986040851673,
          3.0666594226934016,
          3.0743767479128015,
          8.087990075135309,
          8.009767176002347,
          2.920573274386971,
          3.0185555301800555,
          3.034337139096486,
          8.024215589250906,
          3.0759412668311414,
          2.9255653334526377,
          2.9730676366819044,
          2.94009688289028,
          7.911911858541042,
          8.09135837218198,
          2.958573136386557,
          7.060334594347945,
          9.033081778208214,
          9.076775245344253,
          9.091756901615897,
          8.958098665637548,
          9.049691284214987,
          8.940949571328991,
          8.94142411544881,
          8.917798186967413,
          9.0649164194161,
          9.028696988262508,
          8.99701805950782,
          9.074922318165019,
          9.060420590270542,
          8.95437881582139,
          9.098183164259956,
          8.083857098910839,
          9.069692973980912,
          9.002296821889184,
          9.010203804606117,
          8.997892372891219,
          8.90152915358245,
          9.028677830973248,
          8.965381117184176,
          8.95999891387895,
          9.065381698247219,
          8.971777118197355,
          8.93469389152787,
          8.939363765963382,
          8.920250879455406,
          9.025362825209063,
          3.993834027971214,
          3.916217832662414,
          3.9319837662630923,
          4.079811807495677,
          3.977758613261916,
          4.065259188005602,
          3.9370578989384613,
          4.067335632746881,
          3.9132538393735348,
          9.024447547395896,
          9.053165467798795,
          3.9335533063528154,
          3.92831250593389,
          4.015773689344314,
          8.928682911366275,
          3.975636895699464,
          3.972057273970529,
          3.9503839563081553,
          4.001395375464345,
          8.966364921784121,
          9.09491920239268,
          3.919744862202941,
          7.980385319058122
         ],
         "y": [
          9.416879093342043,
          9.276507598648365,
          9.320219097236699,
          9.278415970140312,
          9.425984483023958,
          9.283077569202478,
          9.464627809184721,
          9.362567342539268,
          9.376879897861468,
          9.301815247974961,
          9.277744622610767,
          9.372831403778148,
          9.47367259394118,
          9.266537875004245,
          9.353886012818077,
          9.455883366100409,
          9.43248939980677,
          9.33472936757652,
          9.420241855327056,
          9.466653410947787,
          9.304427242909135,
          9.385831986287387,
          9.379647117002829,
          9.357305569034448,
          9.306956310166631,
          9.410312403309256,
          9.3010612683231,
          9.306958495571003,
          9.30216156046649,
          9.293118257283117,
          9.41434030917262,
          9.434146994060814,
          9.419925010164825,
          9.400607348053935,
          9.449095505468964,
          9.29781909114814,
          9.359150434306946,
          9.276832227722954,
          9.401107181692012,
          9.38895113185864,
          9.404570405223138,
          9.285689837109933,
          9.367478335534122,
          9.411715873806765,
          9.334734332635767,
          9.318455039264805,
          9.390604707535184,
          9.281166313871259,
          9.39586017202388,
          9.291394556124306,
          9.36312666243503,
          9.36723487163863,
          18.127532541500383,
          18.056227899088057,
          18.070752839851306,
          9.333151279315999,
          9.382271393216191,
          18.12071399624116,
          9.412900862796485,
          9.478308368547921,
          9.308919978742791,
          9.4397570014975,
          9.265365053385947,
          18.008011143193304,
          9.320519108210748,
          18.094177753447763,
          18.172964617009143,
          18.032208449948993,
          18.021662549931357,
          18.109699273007312,
          18.040695506291296,
          18.00058776243414,
          18.009535976875416,
          18.01185648253718,
          9.310227505093813,
          9.283553604122375,
          9.333438618752254,
          9.332946460930927,
          9.281737224918373,
          9.372587821557104,
          9.282326480822306,
          9.474371960969341,
          9.3095329757716,
          9.459749664712673,
          9.333207511314422,
          9.47720507119604,
          17.08175517595898,
          16.965042364409776,
          16.95411539466566,
          18.093688391025673,
          9.304307897219635,
          9.288368967971172,
          17.10132490670054,
          9.331845107091924,
          9.395976577068458,
          9.44346467529273,
          9.438598863151668,
          9.279862005591268,
          16.98606223203109,
          9.263610050318691,
          17.092058896332368,
          17.090923231471198,
          16.927559075180923,
          17.09556392589568,
          17.001660092958026,
          16.936530788497375,
          17.046853490524956,
          17.051211127028218,
          16.994322997266643,
          17.992834693959647,
          9.324897914975447,
          9.327513134327301,
          9.341827392968684,
          9.30403217195858,
          9.428681721229168,
          9.461709273776599,
          9.285065730238117,
          9.427063891970013,
          9.422742914816292,
          9.362685980079108,
          9.343276033110804,
          9.456673259873666,
          15.939527430132987,
          15.923887588629917,
          15.908212092577736,
          16.973540872938198,
          9.43519140522765,
          9.43947685685215,
          15.871660004485639,
          9.418074537504552,
          9.46500952038641,
          9.380992773074473,
          9.451168502565851,
          9.316188563197981,
          15.925908041342213,
          9.465479629884106,
          15.986832974553074,
          16.014810965202525,
          15.93970385234153,
          15.904560413641425,
          15.825202693421492,
          15.97436551359697,
          15.89148992685423,
          15.93434386922827,
          15.869019029939823,
          17.072381203563037,
          9.265011074730824,
          9.308041764614671,
          9.366820917583695,
          9.338319901236318,
          9.462113979849645,
          9.40392281983418,
          9.426267585380932,
          9.416362090108114,
          9.297973460561803,
          9.462251882945793,
          9.47764211674759,
          9.306500923397257,
          14.888269604695527,
          14.716536699042049,
          14.844280920370354,
          15.978369296099828,
          9.37980839802789,
          9.416544365785326,
          14.853709389013655,
          9.376340898962868,
          9.455379105638768,
          9.35316373619868,
          9.411850172634963,
          9.276423050068878,
          14.755664183713247,
          9.381690113975695,
          14.792172973234957,
          14.837924307946116,
          14.904376682888483,
          14.839854161214436,
          14.872272632729063,
          14.913448915233968,
          14.903834103469517,
          14.874100777461859,
          14.798071151651378,
          15.834015547066706,
          9.39421283433884,
          9.458076171960608,
          9.465788611463195,
          9.355865697395691,
          9.373772106093604,
          9.326221044933718,
          9.262435058378154,
          9.272963717725442,
          9.385848440780777,
          9.463893919979608,
          9.301686453363184,
          9.326626064031235,
          13.690015783240625,
          13.74505390688304,
          13.822117587083493,
          14.812469371303457,
          9.302948583242589,
          9.374095068368392,
          13.790248595226041,
          9.297299035996692,
          9.272424874648252,
          9.33313789827655,
          9.318064735124016,
          9.398813192681445,
          13.695987238401214,
          9.395494953720458,
          13.713537544403966,
          13.799502127737043,
          13.639605973110019,
          13.715481721744105,
          13.696925548282191,
          13.686933772609756,
          13.640242154959108,
          13.826715729211438,
          13.751003732166005,
          14.849104868915262,
          9.271812825127347,
          9.408799246393523,
          9.345513362413454,
          9.395056204001781,
          9.275913171025252,
          9.455629188652136,
          9.409836186160963,
          9.465221824290287,
          9.296415647698325,
          9.289569716625468,
          9.413360376066379,
          9.342550266905567,
          12.729152156826277,
          12.64361224598747,
          12.696324274330028,
          13.619770807800155,
          9.337672935265884,
          9.323876636986311,
          12.729416625106687,
          9.472781797325803,
          9.26105539182708,
          9.337239372138853,
          9.276032082412359,
          9.369710020435402,
          12.703552106032884,
          9.387882640572256,
          12.73488850477808,
          12.604476229400772,
          12.71939595612984,
          12.644305535010844,
          18.142418366535594,
          18.102268210993074,
          18.03618082726359,
          18.02877885727792,
          18.179230465661792,
          17.987591235068948,
          18.181430285512818,
          18.0221329980947,
          18.03687092294075,
          12.653211887441373,
          12.529263754680077,
          18.170895881029992,
          18.17070139745412,
          18.076824437300566,
          12.716129166216,
          18.18175060026183,
          18.07466827740282,
          18.10048965002085,
          17.981755440666046,
          12.676523014559933,
          12.648336371547307,
          18.046851503698893,
          13.707587777279095,
          9.28283851009347,
          9.359151507065276,
          9.283453540624633,
          9.445374035010609,
          9.267693705600738,
          9.391625972534058,
          9.420973314736663,
          9.406912094963184,
          9.459837610699484,
          9.320566137392742,
          9.457045314256657,
          9.361452060908332,
          11.45320882483826,
          11.478395214052343,
          11.637511980968569,
          12.67736134170563,
          9.45653279959866,
          9.430306300615115,
          11.540559246776432,
          9.459011819442404,
          9.39027502359865,
          9.294804853193625,
          9.432244941429868,
          9.270732487166297,
          11.508551254324107,
          9.42994957480519,
          11.617117615093672,
          11.533745393849358,
          11.523071664133706,
          11.445013383582527,
          17.018799429173256,
          16.889702161149668,
          17.063706468749416,
          16.976599843300107,
          16.965439769480025,
          16.893285261940264,
          16.972753987229908,
          16.969941647281914,
          16.93686802728752,
          11.440923431537826,
          11.481311998052185,
          16.946975776837522,
          17.095039957742642,
          16.900582556242803,
          11.485965358774546,
          17.033000203482256,
          16.91130714802761,
          16.906990473473957,
          16.985374490228008,
          11.503302631106394,
          11.49187025643746,
          17.066789074760468,
          12.654018287549524,
          9.26144910072371,
          9.416860907097327,
          9.271423956013493,
          9.438349879300986,
          9.322541714901744,
          9.311314705296173,
          9.417532662271373,
          9.478272881726594,
          9.465243377648784,
          9.334844806701588,
          9.415393802269614,
          9.43679329177464,
          10.449740523268556,
          10.55177341201766,
          10.494715956878277,
          11.601641769617867,
          9.438229969567866,
          9.418712057552371,
          10.387622307929412,
          9.314151255543868,
          9.317263049814446,
          9.397336660069518,
          9.362148060047609,
          9.402609235008262,
          10.3690358664494,
          9.457062257686609,
          10.46690536706602,
          10.487044236444907,
          10.38484773117774,
          10.362540690636479,
          15.857217705013225,
          15.893488912255204,
          15.87420695421217,
          15.872220468639313,
          15.96685481478349,
          16.000668298279365,
          15.98852859846236,
          15.833763992723755,
          15.8253565457821,
          10.363400902310785,
          10.448618883332202,
          15.992913893224227,
          15.88616957529224,
          15.868976696173277,
          10.432878420888942,
          15.823652119776817,
          15.987475419331911,
          15.935725223162573,
          15.97164438624678,
          10.555224911473497,
          10.359731395338027,
          15.951515893986269,
          11.482954463083754,
          9.333794384159795,
          9.286193629209128,
          9.26987223849135,
          9.41548286074147,
          9.315699573262357,
          9.434165512618602,
          9.433648532396125,
          9.459387209270256,
          9.29911293051454,
          9.338571283897823,
          9.373083100505477,
          9.28821225438084,
          9.304010799131637,
          9.419535358086232,
          9.262871307381534,
          10.367903469888345,
          9.293909232610682,
          9.367332284856635,
          9.35871822029783,
          9.372130601657453,
          9.47711110078545,
          9.338592154327463,
          9.407549176045956,
          9.41341268282213,
          9.298606044129103,
          9.400581212713025,
          9.440980606516641,
          9.435893128611465,
          9.456715184783693,
          9.342203604445388,
          14.823676808639707,
          14.908233831354206,
          14.891058029315936,
          14.730010467133685,
          14.841189767131311,
          14.745864454460452,
          14.88553014238228,
          14.743602323671187,
          14.911462879710111,
          9.343200730966858,
          9.311914710850052,
          14.889348133121075,
          14.895057592059409,
          14.799775193291353,
          9.4475291185126,
          14.843501219263281,
          14.847400948625673,
          14.87101240247992,
          14.815439287730763,
          9.406477394730558,
          9.266427149002634,
          14.90439139723609,
          10.480628212508188
         ]
        }
       ],
       "layout": {
        "autosize": true,
        "legend": {
         "tracegroupgap": 0
        },
        "template": {
         "data": {
          "bar": [
           {
            "error_x": {
             "color": "#2a3f5f"
            },
            "error_y": {
             "color": "#2a3f5f"
            },
            "marker": {
             "line": {
              "color": "#E5ECF6",
              "width": 0.5
             },
             "pattern": {
              "fillmode": "overlay",
              "size": 10,
              "solidity": 0.2
             }
            },
            "type": "bar"
           }
          ],
          "barpolar": [
           {
            "marker": {
             "line": {
              "color": "#E5ECF6",
              "width": 0.5
             },
             "pattern": {
              "fillmode": "overlay",
              "size": 10,
              "solidity": 0.2
             }
            },
            "type": "barpolar"
           }
          ],
          "carpet": [
           {
            "aaxis": {
             "endlinecolor": "#2a3f5f",
             "gridcolor": "white",
             "linecolor": "white",
             "minorgridcolor": "white",
             "startlinecolor": "#2a3f5f"
            },
            "baxis": {
             "endlinecolor": "#2a3f5f",
             "gridcolor": "white",
             "linecolor": "white",
             "minorgridcolor": "white",
             "startlinecolor": "#2a3f5f"
            },
            "type": "carpet"
           }
          ],
          "choropleth": [
           {
            "colorbar": {
             "outlinewidth": 0,
             "ticks": ""
            },
            "type": "choropleth"
           }
          ],
          "contour": [
           {
            "colorbar": {
             "outlinewidth": 0,
             "ticks": ""
            },
            "colorscale": [
             [
              0,
              "#0d0887"
             ],
             [
              0.1111111111111111,
              "#46039f"
             ],
             [
              0.2222222222222222,
              "#7201a8"
             ],
             [
              0.3333333333333333,
              "#9c179e"
             ],
             [
              0.4444444444444444,
              "#bd3786"
             ],
             [
              0.5555555555555556,
              "#d8576b"
             ],
             [
              0.6666666666666666,
              "#ed7953"
             ],
             [
              0.7777777777777778,
              "#fb9f3a"
             ],
             [
              0.8888888888888888,
              "#fdca26"
             ],
             [
              1,
              "#f0f921"
             ]
            ],
            "type": "contour"
           }
          ],
          "contourcarpet": [
           {
            "colorbar": {
             "outlinewidth": 0,
             "ticks": ""
            },
            "type": "contourcarpet"
           }
          ],
          "heatmap": [
           {
            "colorbar": {
             "outlinewidth": 0,
             "ticks": ""
            },
            "colorscale": [
             [
              0,
              "#0d0887"
             ],
             [
              0.1111111111111111,
              "#46039f"
             ],
             [
              0.2222222222222222,
              "#7201a8"
             ],
             [
              0.3333333333333333,
              "#9c179e"
             ],
             [
              0.4444444444444444,
              "#bd3786"
             ],
             [
              0.5555555555555556,
              "#d8576b"
             ],
             [
              0.6666666666666666,
              "#ed7953"
             ],
             [
              0.7777777777777778,
              "#fb9f3a"
             ],
             [
              0.8888888888888888,
              "#fdca26"
             ],
             [
              1,
              "#f0f921"
             ]
            ],
            "type": "heatmap"
           }
          ],
          "heatmapgl": [
           {
            "colorbar": {
             "outlinewidth": 0,
             "ticks": ""
            },
            "colorscale": [
             [
              0,
              "#0d0887"
             ],
             [
              0.1111111111111111,
              "#46039f"
             ],
             [
              0.2222222222222222,
              "#7201a8"
             ],
             [
              0.3333333333333333,
              "#9c179e"
             ],
             [
              0.4444444444444444,
              "#bd3786"
             ],
             [
              0.5555555555555556,
              "#d8576b"
             ],
             [
              0.6666666666666666,
              "#ed7953"
             ],
             [
              0.7777777777777778,
              "#fb9f3a"
             ],
             [
              0.8888888888888888,
              "#fdca26"
             ],
             [
              1,
              "#f0f921"
             ]
            ],
            "type": "heatmapgl"
           }
          ],
          "histogram": [
           {
            "marker": {
             "pattern": {
              "fillmode": "overlay",
              "size": 10,
              "solidity": 0.2
             }
            },
            "type": "histogram"
           }
          ],
          "histogram2d": [
           {
            "colorbar": {
             "outlinewidth": 0,
             "ticks": ""
            },
            "colorscale": [
             [
              0,
              "#0d0887"
             ],
             [
              0.1111111111111111,
              "#46039f"
             ],
             [
              0.2222222222222222,
              "#7201a8"
             ],
             [
              0.3333333333333333,
              "#9c179e"
             ],
             [
              0.4444444444444444,
              "#bd3786"
             ],
             [
              0.5555555555555556,
              "#d8576b"
             ],
             [
              0.6666666666666666,
              "#ed7953"
             ],
             [
              0.7777777777777778,
              "#fb9f3a"
             ],
             [
              0.8888888888888888,
              "#fdca26"
             ],
             [
              1,
              "#f0f921"
             ]
            ],
            "type": "histogram2d"
           }
          ],
          "histogram2dcontour": [
           {
            "colorbar": {
             "outlinewidth": 0,
             "ticks": ""
            },
            "colorscale": [
             [
              0,
              "#0d0887"
             ],
             [
              0.1111111111111111,
              "#46039f"
             ],
             [
              0.2222222222222222,
              "#7201a8"
             ],
             [
              0.3333333333333333,
              "#9c179e"
             ],
             [
              0.4444444444444444,
              "#bd3786"
             ],
             [
              0.5555555555555556,
              "#d8576b"
             ],
             [
              0.6666666666666666,
              "#ed7953"
             ],
             [
              0.7777777777777778,
              "#fb9f3a"
             ],
             [
              0.8888888888888888,
              "#fdca26"
             ],
             [
              1,
              "#f0f921"
             ]
            ],
            "type": "histogram2dcontour"
           }
          ],
          "mesh3d": [
           {
            "colorbar": {
             "outlinewidth": 0,
             "ticks": ""
            },
            "type": "mesh3d"
           }
          ],
          "parcoords": [
           {
            "line": {
             "colorbar": {
              "outlinewidth": 0,
              "ticks": ""
             }
            },
            "type": "parcoords"
           }
          ],
          "pie": [
           {
            "automargin": true,
            "type": "pie"
           }
          ],
          "scatter": [
           {
            "fillpattern": {
             "fillmode": "overlay",
             "size": 10,
             "solidity": 0.2
            },
            "type": "scatter"
           }
          ],
          "scatter3d": [
           {
            "line": {
             "colorbar": {
              "outlinewidth": 0,
              "ticks": ""
             }
            },
            "marker": {
             "colorbar": {
              "outlinewidth": 0,
              "ticks": ""
             }
            },
            "type": "scatter3d"
           }
          ],
          "scattercarpet": [
           {
            "marker": {
             "colorbar": {
              "outlinewidth": 0,
              "ticks": ""
             }
            },
            "type": "scattercarpet"
           }
          ],
          "scattergeo": [
           {
            "marker": {
             "colorbar": {
              "outlinewidth": 0,
              "ticks": ""
             }
            },
            "type": "scattergeo"
           }
          ],
          "scattergl": [
           {
            "marker": {
             "colorbar": {
              "outlinewidth": 0,
              "ticks": ""
             }
            },
            "type": "scattergl"
           }
          ],
          "scattermapbox": [
           {
            "marker": {
             "colorbar": {
              "outlinewidth": 0,
              "ticks": ""
             }
            },
            "type": "scattermapbox"
           }
          ],
          "scatterpolar": [
           {
            "marker": {
             "colorbar": {
              "outlinewidth": 0,
              "ticks": ""
             }
            },
            "type": "scatterpolar"
           }
          ],
          "scatterpolargl": [
           {
            "marker": {
             "colorbar": {
              "outlinewidth": 0,
              "ticks": ""
             }
            },
            "type": "scatterpolargl"
           }
          ],
          "scatterternary": [
           {
            "marker": {
             "colorbar": {
              "outlinewidth": 0,
              "ticks": ""
             }
            },
            "type": "scatterternary"
           }
          ],
          "surface": [
           {
            "colorbar": {
             "outlinewidth": 0,
             "ticks": ""
            },
            "colorscale": [
             [
              0,
              "#0d0887"
             ],
             [
              0.1111111111111111,
              "#46039f"
             ],
             [
              0.2222222222222222,
              "#7201a8"
             ],
             [
              0.3333333333333333,
              "#9c179e"
             ],
             [
              0.4444444444444444,
              "#bd3786"
             ],
             [
              0.5555555555555556,
              "#d8576b"
             ],
             [
              0.6666666666666666,
              "#ed7953"
             ],
             [
              0.7777777777777778,
              "#fb9f3a"
             ],
             [
              0.8888888888888888,
              "#fdca26"
             ],
             [
              1,
              "#f0f921"
             ]
            ],
            "type": "surface"
           }
          ],
          "table": [
           {
            "cells": {
             "fill": {
              "color": "#EBF0F8"
             },
             "line": {
              "color": "white"
             }
            },
            "header": {
             "fill": {
              "color": "#C8D4E3"
             },
             "line": {
              "color": "white"
             }
            },
            "type": "table"
           }
          ]
         },
         "layout": {
          "annotationdefaults": {
           "arrowcolor": "#2a3f5f",
           "arrowhead": 0,
           "arrowwidth": 1
          },
          "autotypenumbers": "strict",
          "coloraxis": {
           "colorbar": {
            "outlinewidth": 0,
            "ticks": ""
           }
          },
          "colorscale": {
           "diverging": [
            [
             0,
             "#8e0152"
            ],
            [
             0.1,
             "#c51b7d"
            ],
            [
             0.2,
             "#de77ae"
            ],
            [
             0.3,
             "#f1b6da"
            ],
            [
             0.4,
             "#fde0ef"
            ],
            [
             0.5,
             "#f7f7f7"
            ],
            [
             0.6,
             "#e6f5d0"
            ],
            [
             0.7,
             "#b8e186"
            ],
            [
             0.8,
             "#7fbc41"
            ],
            [
             0.9,
             "#4d9221"
            ],
            [
             1,
             "#276419"
            ]
           ],
           "sequential": [
            [
             0,
             "#0d0887"
            ],
            [
             0.1111111111111111,
             "#46039f"
            ],
            [
             0.2222222222222222,
             "#7201a8"
            ],
            [
             0.3333333333333333,
             "#9c179e"
            ],
            [
             0.4444444444444444,
             "#bd3786"
            ],
            [
             0.5555555555555556,
             "#d8576b"
            ],
            [
             0.6666666666666666,
             "#ed7953"
            ],
            [
             0.7777777777777778,
             "#fb9f3a"
            ],
            [
             0.8888888888888888,
             "#fdca26"
            ],
            [
             1,
             "#f0f921"
            ]
           ],
           "sequentialminus": [
            [
             0,
             "#0d0887"
            ],
            [
             0.1111111111111111,
             "#46039f"
            ],
            [
             0.2222222222222222,
             "#7201a8"
            ],
            [
             0.3333333333333333,
             "#9c179e"
            ],
            [
             0.4444444444444444,
             "#bd3786"
            ],
            [
             0.5555555555555556,
             "#d8576b"
            ],
            [
             0.6666666666666666,
             "#ed7953"
            ],
            [
             0.7777777777777778,
             "#fb9f3a"
            ],
            [
             0.8888888888888888,
             "#fdca26"
            ],
            [
             1,
             "#f0f921"
            ]
           ]
          },
          "colorway": [
           "#636efa",
           "#EF553B",
           "#00cc96",
           "#ab63fa",
           "#FFA15A",
           "#19d3f3",
           "#FF6692",
           "#B6E880",
           "#FF97FF",
           "#FECB52"
          ],
          "font": {
           "color": "#2a3f5f"
          },
          "geo": {
           "bgcolor": "white",
           "lakecolor": "white",
           "landcolor": "#E5ECF6",
           "showlakes": true,
           "showland": true,
           "subunitcolor": "white"
          },
          "hoverlabel": {
           "align": "left"
          },
          "hovermode": "closest",
          "mapbox": {
           "style": "light"
          },
          "paper_bgcolor": "white",
          "plot_bgcolor": "#E5ECF6",
          "polar": {
           "angularaxis": {
            "gridcolor": "white",
            "linecolor": "white",
            "ticks": ""
           },
           "bgcolor": "#E5ECF6",
           "radialaxis": {
            "gridcolor": "white",
            "linecolor": "white",
            "ticks": ""
           }
          },
          "scene": {
           "xaxis": {
            "backgroundcolor": "#E5ECF6",
            "gridcolor": "white",
            "gridwidth": 2,
            "linecolor": "white",
            "showbackground": true,
            "ticks": "",
            "zerolinecolor": "white"
           },
           "yaxis": {
            "backgroundcolor": "#E5ECF6",
            "gridcolor": "white",
            "gridwidth": 2,
            "linecolor": "white",
            "showbackground": true,
            "ticks": "",
            "zerolinecolor": "white"
           },
           "zaxis": {
            "backgroundcolor": "#E5ECF6",
            "gridcolor": "white",
            "gridwidth": 2,
            "linecolor": "white",
            "showbackground": true,
            "ticks": "",
            "zerolinecolor": "white"
           }
          },
          "shapedefaults": {
           "line": {
            "color": "#2a3f5f"
           }
          },
          "ternary": {
           "aaxis": {
            "gridcolor": "white",
            "linecolor": "white",
            "ticks": ""
           },
           "baxis": {
            "gridcolor": "white",
            "linecolor": "white",
            "ticks": ""
           },
           "bgcolor": "#E5ECF6",
           "caxis": {
            "gridcolor": "white",
            "linecolor": "white",
            "ticks": ""
           }
          },
          "title": {
           "x": 0.05
          },
          "xaxis": {
           "automargin": true,
           "gridcolor": "white",
           "linecolor": "white",
           "ticks": "",
           "title": {
            "standoff": 15
           },
           "zerolinecolor": "white",
           "zerolinewidth": 2
          },
          "yaxis": {
           "automargin": true,
           "gridcolor": "white",
           "linecolor": "white",
           "ticks": "",
           "title": {
            "standoff": 15
           },
           "zerolinecolor": "white",
           "zerolinewidth": 2
          }
         }
        },
        "title": {
         "text": "Scatter Plot of Warmth and Deer Density with Jitter"
        },
        "xaxis": {
         "anchor": "y",
         "autorange": true,
         "domain": [
          0,
          1
         ],
         "range": [
          0.41974691836454325,
          9.591509404422057
         ],
         "title": {
          "text": "Warmth_jitter"
         },
         "type": "linear"
        },
        "yaxis": {
         "anchor": "x",
         "autorange": true,
         "domain": [
          0,
          1
         ],
         "range": [
          -0.20445344129554632,
          37.20445344129555
         ],
         "title": {
          "text": "Deer Density"
         },
         "type": "linear"
        }
       }
      },
      "image/png": "[encoded data removed]",
      "text/html": [
       "<div>                            <div id=\"adb8956e-f728-4409-bdb3-fa0383bb14c1\" class=\"plotly-graph-div\" style=\"height:600px; width:100%;\"></div>            <script type=\"text/javascript\">                require([\"plotly\"], function(Plotly) {                    window.PLOTLYENV=window.PLOTLYENV || {};                                    if (document.getElementById(\"adb8956e-f728-4409-bdb3-fa0383bb14c1\")) {                    Plotly.newPlot(                        \"adb8956e-f728-4409-bdb3-fa0383bb14c1\",                        [{\"hovertemplate\":\"Warmth_jitter=%{x}\\u003cbr\\u003eDeer Density=%{y}\\u003cextra\\u003e\\u003c\\u002fextra\\u003e\",\"legendgroup\":\"\",\"marker\":{\"color\":\"#636efa\",\"symbol\":\"circle\"},\"mode\":\"markers\",\"name\":\"\",\"orientation\":\"v\",\"showlegend\":false,\"x\":[8.95681704219879,9.085666202187772,9.045542743452385,9.083914478561685,8.948459064573436,9.079635524884685,8.91298775947791,9.00667063593404,8.993532920655126,9.06243592054018,9.084530718813534,8.997249095815862,8.90468541204837,9.094817565288027,9.014639362380986,8.92101441865429,8.942488101130378,9.032223542509353,8.953730311107428,8.911128428377868,9.060038330104186,8.985315660617081,8.990992847525265,9.011500498988699,9.057716860261642,8.962844708260757,9.063128010091575,9.057714854245264,9.06211803496288,9.070419022433635,8.95914743134466,8.940966569798803,8.954021148168678,8.971753128164837,8.927245100619972,9.066104054525956,9.009807068700928,9.085368220153315,8.971294323159299,8.982452548789311,8.968115376865299,9.077237683882306,9.002162759719717,8.961556441044767,9.03221898500489,9.047161999472609,8.980934706172006,9.08138989563132,8.976110634260552,9.072001234312689,9.00615722757509,9.002386238984437,0.9611738939970295,1.0266255250293308,1.0132928578783642,9.033672094063215,8.988583983913683,0.9674327418558125,8.96046872137451,8.900430163037305,9.055914378589085,8.935817057447125,9.095894116340393,1.0708844289327906,9.045267358752108,0.9917907683957042,0.9194710911691885,1.048673347856325,1.0583535921364424,0.9775433261969545,1.0408829479402204,1.0776984646256074,1.0694847605778195,1.0673547326407316,9.054714179984943,9.079198565089621,9.033408340762918,9.033860100017874,9.080865847575767,8.997472683693431,9.080324960493202,8.904043452266581,9.055351699161827,8.917465483526513,9.033620477844574,8.901442896693222,1.921109067299498,2.0282415571321684,2.0382715911916263,0.9922399617105873,9.060147879353298,9.074778468343391,1.9031457096194826,9.034871049693347,8.97600378427477,8.932413726485441,8.936880130497226,9.082587140318429,2.0089470964441474,9.09750506072399,1.9116511234500717,1.9126935677419863,2.0626480464361503,1.9084338027543397,1.9946295793268254,2.0544127724084036,1.9531458626630218,1.9491459209069861,2.001364412625116,1.0848151257572378,9.04124798448658,9.038847434307865,9.025708155526,9.060400971823048,8.945983228024215,8.915666728142845,9.077810561205812,8.947468258453666,8.951434550027347,9.006561736706423,9.02437842639655,8.920289362976947,2.9695775322606948,2.9839335839963343,2.998322363592516,2.0204406450777954,8.940007888680364,8.936074206537882,3.0318740890107554,8.955719725564176,8.912637380878584,8.989757649062472,8.925342264612018,9.049242432811177,2.9820789792894096,8.912205860119949,2.926155043423834,2.9004736142901746,2.969415591594438,3.001674296009565,3.074517971367533,2.937599118126429,3.013671897423243,2.974335602763413,3.0342982802792418,1.9297135811405235,9.096219038807494,9.056720504882358,9.002766213796052,9.028927736284686,8.915295242196441,8.96870980548181,8.94819920055356,8.957291607441174,9.06596235646025,8.91516865881755,8.901041725840715,9.058134866800877,3.934543304229231,4.092179587038683,3.974921196027618,2.9339239844150047,8.990844805184855,8.957124293785746,3.966266659240623,8.99402767605736,8.921477287109454,9.015302351229913,8.961433166079015,9.085743810632913,4.0562638653790435,8.989117549093853,4.022751884386375,3.980756028612581,3.9197583687295543,3.978984586532636,3.949227171525396,3.911430826734712,3.9202564107466573,3.947549089278903,4.017337855447812,3.0664285170821772,8.977622750929246,8.919001608334629,8.911922241162948,9.012822179373671,8.99638561065165,9.040033463090683,9.098583603948613,9.088919185145716,8.985300556783814,8.91366140769837,9.062554143100785,9.03966168981429,5.034438968124354,4.983918625556439,4.9131806849143125,4.004121507559262,9.06139561461811,8.996089158598437,4.942433724069372,9.066581421170504,9.089413797517077,9.033684376725706,9.047520265663266,8.973400011053272,5.028957677332141,8.976445873774182,5.012847980766331,4.93393976385633,5.080710910335321,5.011063390399939,5.028096388220436,5.037267993217598,5.080126949203937,4.908959979335957,4.978457189162502,3.9704932192564226,9.089975607212217,8.964233658331775,9.022324747322362,8.97684860890798,9.08621183647114,8.921247732054345,8.963281835326075,8.91244250385076,9.067392296914452,9.073676282633953,8.960046927056805,9.025044618390142,5.9164305106211454,5.994948914098752,5.946563730282938,5.09891791449949,9.029521596327381,9.042185431304414,5.916187751107551,8.90550308800076,9.099850021155031,9.029919570608712,9.086102685874893,9.0001142617286,5.9399291920849455,8.983433333420882,5.911165028362036,6.030872467335221,5.925385877714465,5.994312533411304,0.9475099656067575,0.9843644126322725,1.0450270414515785,1.0518214238651757,0.9137195720500546,1.0896281775451222,0.9117003234800355,1.057921760511384,1.0443935919858742,5.9861372551488365,6.099911157915544,0.9213700158314522,0.9215485353053473,1.007719644934843,5.928384514561479,0.9114063016315685,1.0096988173603587,0.9859969811801853,1.094984943235502,5.964739612029216,5.990612566385168,1.035232262973204,5.018309363776057,9.079854960927953,9.00980608399951,9.07929041491752,8.930661095751528,9.093756610556635,8.979997271278132,8.953058893233738,8.965965903736027,8.91738475654879,9.045224189940605,8.919947848520444,9.007694370144542,7.087638574473197,7.064519599353127,6.918463864874709,5.963970098612302,8.920418293629753,8.944492001549271,7.007458274933196,8.918142763080196,8.981237328142207,9.068870870034289,8.94271249324492,9.09096726608918,7.036838904878156,8.944819445672135,6.937184167862312,7.013712815627927,7.023510396759428,7.095161296403633,1.978897118267547,2.09739749170883,1.9376762540200947,2.0176327690027898,2.0278767728888383,2.094108508229445,2.0211629396059085,2.023744429820098,2.0541032157215504,7.098915526466545,7.061842238332864,2.044825156513454,1.9089147612033965,2.087410209239849,7.057570846755033,1.9658620085046927,2.077565941030606,2.0815282831813224,2.009578385252533,7.041656697081457,7.05215065011648,1.9348466824181956,5.985397048052109,9.099488629686475,8.956833735633309,9.09033255616952,8.937108676613951,9.043410776874914,9.053716222150843,8.956217121198284,8.900462736937929,8.91242271969057,9.032117579155985,8.958180413782452,8.938537492312301,8.008737605405235,7.915080043125508,7.967453961219505,6.951389685115142,8.937218743607403,8.955134536079537,8.065756873340863,9.051112508929155,9.048256144973656,8.974755343110955,9.007055501799908,8.969915565253501,8.08281765464201,8.919932295884767,7.992981730542808,7.974495951729524,8.068303700134708,8.088779676698568,3.045130898446252,3.0118369978924817,3.029536204574076,3.0313596303198196,2.9444933044080455,2.9134553863873505,2.9245986040851673,3.0666594226934016,3.0743767479128015,8.087990075135309,8.009767176002347,2.920573274386971,3.0185555301800555,3.034337139096486,8.024215589250906,3.0759412668311414,2.9255653334526377,2.9730676366819044,2.94009688289028,7.911911858541042,8.09135837218198,2.958573136386557,7.060334594347945,9.033081778208214,9.076775245344253,9.091756901615897,8.958098665637548,9.049691284214987,8.940949571328991,8.94142411544881,8.917798186967413,9.0649164194161,9.028696988262508,8.99701805950782,9.074922318165019,9.060420590270542,8.95437881582139,9.098183164259956,8.083857098910839,9.069692973980912,9.002296821889184,9.010203804606117,8.997892372891219,8.90152915358245,9.028677830973248,8.965381117184176,8.95999891387895,9.065381698247219,8.971777118197355,8.93469389152787,8.939363765963382,8.920250879455406,9.025362825209063,3.993834027971214,3.916217832662414,3.9319837662630923,4.079811807495677,3.977758613261916,4.065259188005602,3.9370578989384613,4.067335632746881,3.9132538393735348,9.024447547395896,9.053165467798795,3.9335533063528154,3.92831250593389,4.015773689344314,8.928682911366275,3.975636895699464,3.972057273970529,3.9503839563081553,4.001395375464345,8.966364921784121,9.09491920239268,3.919744862202941,7.980385319058122],\"xaxis\":\"x\",\"y\":[8.0,4.0,18.0,3.0,7.0,7.0,8.0,5.0,5.0,5.0,7.0,13.0,12.0,12.0,12.0,12.0,16.0,14.0,16.0,17.0,7.0,4.0,19.0,3.0,8.0,6.0,9.0,5.0,5.0,4.0,7.0,13.0,14.0,12.0,12.0,12.0,17.0,11.0,17.0,15.0,7.0,4.0,18.0,3.0,7.0,6.0,8.0,5.0,5.0,4.0,8.0,14.0,17.0,16.0,21.0,13.0,11.0,20.0,11.0,13.0,18.0,13.0,14.0,14.0,14.0,13.0,10.0,9.0,10.0,18.0,18.0,23.0,5.0,10.0,6.0,4.0,16.0,3.0,7.0,6.0,8.0,5.0,5.0,4.0,8.0,14.0,17.0,16.0,21.0,14.0,13.0,11.0,20.0,11.0,10.0,15.0,12.0,12.0,13.0,13.0,14.0,10.0,7.0,11.0,19.0,19.0,22.0,5.0,10.0,14.0,7.0,3.0,11.0,2.0,7.0,5.0,6.0,4.0,4.0,4.0,6.0,11.0,13.0,12.0,16.0,13.0,10.0,8.0,17.0,8.0,10.0,12.0,10.0,11.0,13.0,13.0,10.0,9.0,6.0,10.0,16.0,17.0,19.0,5.0,10.0,10.0,8.0,3.0,11.0,2.0,7.0,5.0,6.0,4.0,4.0,4.0,6.0,11.0,13.0,12.0,17.0,14.0,10.0,8.0,17.0,8.0,8.0,14.0,9.0,10.0,12.0,12.0,13.0,8.0,5.0,10.0,17.0,17.0,20.0,5.0,10.0,13.0,9.0,4.0,13.0,3.0,7.0,6.0,7.0,5.0,5.0,4.0,7.0,13.0,14.0,14.0,20.0,15.0,12.0,9.0,14.0,9.0,9.0,14.0,11.0,12.0,15.0,15.0,12.0,9.0,6.0,9.0,20.0,19.0,21.0,5.0,11.0,12.0,8.0,4.0,14.0,3.0,8.0,5.0,6.0,4.0,4.0,4.0,6.0,11.0,11.0,11.0,16.0,17.0,10.0,7.0,15.0,7.0,9.0,15.0,12.0,14.0,15.0,18.0,13.0,10.0,7.0,10.0,33.0,20.0,21.0,22.0,25.0,23.0,15.0,27.0,28.0,22.0,20.0,9.0,11.0,14.0,22.0,12.0,17.0,13.0,7.0,6.0,11.0,4.0,15.0,8.0,5.0,15.0,2.0,8.0,4.0,5.0,4.0,4.0,4.0,5.0,10.0,10.0,10.0,14.0,17.0,9.0,6.0,12.0,6.0,10.0,14.0,14.0,15.0,13.0,20.0,15.0,11.0,8.0,10.0,35.0,22.0,24.0,23.0,28.0,25.0,16.0,29.0,29.0,23.0,21.0,10.0,13.0,14.0,22.0,13.0,19.0,14.0,8.0,6.0,10.0,5.0,15.0,7.0,4.0,14.0,3.0,7.0,4.0,4.0,4.0,4.0,4.0,4.0,9.0,9.0,9.0,12.0,18.0,8.0,5.0,10.0,7.0,9.0,13.0,13.0,15.0,12.0,21.0,16.0,10.0,8.0,9.0,35.0,24.0,26.0,24.0,28.0,27.0,16.0,29.0,30.0,23.0,22.0,11.0,13.0,13.0,21.0,14.0,19.0,13.0,9.0,5.0,10.0,5.0,16.0,7.0,3.0,12.0,3.0,7.0,3.0,3.0,3.0,3.0,4.0,3.0,9.0,10.0,9.0,10.0,17.0,7.0,4.0,10.0,7.0,9.0,14.0,15.0,14.0,12.0,22.0,19.0,8.0,9.0,10.0,33.0,26.0,29.0,25.0,31.0,28.0,17.0,30.0,29.0,25.0,23.0,12.0,14.0,14.0,24.0,15.0,22.0,14.0,8.0,5.0,10.0,6.0,17.0],\"yaxis\":\"y\",\"type\":\"scatter\"},{\"mode\":\"lines\",\"name\":\"Regression Line\",\"x\":[8.95681704219879,9.085666202187772,9.045542743452385,9.083914478561685,8.948459064573436,9.079635524884685,8.91298775947791,9.00667063593404,8.993532920655126,9.06243592054018,9.084530718813534,8.997249095815862,8.90468541204837,9.094817565288027,9.014639362380986,8.92101441865429,8.942488101130378,9.032223542509353,8.953730311107428,8.911128428377868,9.060038330104186,8.985315660617081,8.990992847525265,9.011500498988699,9.057716860261642,8.962844708260757,9.063128010091575,9.057714854245264,9.06211803496288,9.070419022433635,8.95914743134466,8.940966569798803,8.954021148168678,8.971753128164837,8.927245100619972,9.066104054525956,9.009807068700928,9.085368220153315,8.971294323159299,8.982452548789311,8.968115376865299,9.077237683882306,9.002162759719717,8.961556441044767,9.03221898500489,9.047161999472609,8.980934706172006,9.08138989563132,8.976110634260552,9.072001234312689,9.00615722757509,9.002386238984437,0.9611738939970295,1.0266255250293308,1.0132928578783642,9.033672094063215,8.988583983913683,0.9674327418558125,8.96046872137451,8.900430163037305,9.055914378589085,8.935817057447125,9.095894116340393,1.0708844289327906,9.045267358752108,0.9917907683957042,0.9194710911691885,1.048673347856325,1.0583535921364424,0.9775433261969545,1.0408829479402204,1.0776984646256074,1.0694847605778195,1.0673547326407316,9.054714179984943,9.079198565089621,9.033408340762918,9.033860100017874,9.080865847575767,8.997472683693431,9.080324960493202,8.904043452266581,9.055351699161827,8.917465483526513,9.033620477844574,8.901442896693222,1.921109067299498,2.0282415571321684,2.0382715911916263,0.9922399617105873,9.060147879353298,9.074778468343391,1.9031457096194826,9.034871049693347,8.97600378427477,8.932413726485441,8.936880130497226,9.082587140318429,2.0089470964441474,9.09750506072399,1.9116511234500717,1.9126935677419863,2.0626480464361503,1.9084338027543397,1.9946295793268254,2.0544127724084036,1.9531458626630218,1.9491459209069861,2.001364412625116,1.0848151257572378,9.04124798448658,9.038847434307865,9.025708155526,9.060400971823048,8.945983228024215,8.915666728142845,9.077810561205812,8.947468258453666,8.951434550027347,9.006561736706423,9.02437842639655,8.920289362976947,2.9695775322606948,2.9839335839963343,2.998322363592516,2.0204406450777954,8.940007888680364,8.936074206537882,3.0318740890107554,8.955719725564176,8.912637380878584,8.989757649062472,8.925342264612018,9.049242432811177,2.9820789792894096,8.912205860119949,2.926155043423834,2.9004736142901746,2.969415591594438,3.001674296009565,3.074517971367533,2.937599118126429,3.013671897423243,2.974335602763413,3.0342982802792418,1.9297135811405235,9.096219038807494,9.056720504882358,9.002766213796052,9.028927736284686,8.915295242196441,8.96870980548181,8.94819920055356,8.957291607441174,9.06596235646025,8.91516865881755,8.901041725840715,9.058134866800877,3.934543304229231,4.092179587038683,3.974921196027618,2.9339239844150047,8.990844805184855,8.957124293785746,3.966266659240623,8.99402767605736,8.921477287109454,9.015302351229913,8.961433166079015,9.085743810632913,4.0562638653790435,8.989117549093853,4.022751884386375,3.980756028612581,3.9197583687295543,3.978984586532636,3.949227171525396,3.911430826734712,3.9202564107466573,3.947549089278903,4.017337855447812,3.0664285170821772,8.977622750929246,8.919001608334629,8.911922241162948,9.012822179373671,8.99638561065165,9.040033463090683,9.098583603948613,9.088919185145716,8.985300556783814,8.91366140769837,9.062554143100785,9.03966168981429,5.034438968124354,4.983918625556439,4.9131806849143125,4.004121507559262,9.06139561461811,8.996089158598437,4.942433724069372,9.066581421170504,9.089413797517077,9.033684376725706,9.047520265663266,8.973400011053272,5.028957677332141,8.976445873774182,5.012847980766331,4.93393976385633,5.080710910335321,5.011063390399939,5.028096388220436,5.037267993217598,5.080126949203937,4.908959979335957,4.978457189162502,3.9704932192564226,9.089975607212217,8.964233658331775,9.022324747322362,8.97684860890798,9.08621183647114,8.921247732054345,8.963281835326075,8.91244250385076,9.067392296914452,9.073676282633953,8.960046927056805,9.025044618390142,5.9164305106211454,5.994948914098752,5.946563730282938,5.09891791449949,9.029521596327381,9.042185431304414,5.916187751107551,8.90550308800076,9.099850021155031,9.029919570608712,9.086102685874893,9.0001142617286,5.9399291920849455,8.983433333420882,5.911165028362036,6.030872467335221,5.925385877714465,5.994312533411304,0.9475099656067575,0.9843644126322725,1.0450270414515785,1.0518214238651757,0.9137195720500546,1.0896281775451222,0.9117003234800355,1.057921760511384,1.0443935919858742,5.9861372551488365,6.099911157915544,0.9213700158314522,0.9215485353053473,1.007719644934843,5.928384514561479,0.9114063016315685,1.0096988173603587,0.9859969811801853,1.094984943235502,5.964739612029216,5.990612566385168,1.035232262973204,5.018309363776057,9.079854960927953,9.00980608399951,9.07929041491752,8.930661095751528,9.093756610556635,8.979997271278132,8.953058893233738,8.965965903736027,8.91738475654879,9.045224189940605,8.919947848520444,9.007694370144542,7.087638574473197,7.064519599353127,6.918463864874709,5.963970098612302,8.920418293629753,8.944492001549271,7.007458274933196,8.918142763080196,8.981237328142207,9.068870870034289,8.94271249324492,9.09096726608918,7.036838904878156,8.944819445672135,6.937184167862312,7.013712815627927,7.023510396759428,7.095161296403633,1.978897118267547,2.09739749170883,1.9376762540200947,2.0176327690027898,2.0278767728888383,2.094108508229445,2.0211629396059085,2.023744429820098,2.0541032157215504,7.098915526466545,7.061842238332864,2.044825156513454,1.9089147612033965,2.087410209239849,7.057570846755033,1.9658620085046927,2.077565941030606,2.0815282831813224,2.009578385252533,7.041656697081457,7.05215065011648,1.9348466824181956,5.985397048052109,9.099488629686475,8.956833735633309,9.09033255616952,8.937108676613951,9.043410776874914,9.053716222150843,8.956217121198284,8.900462736937929,8.91242271969057,9.032117579155985,8.958180413782452,8.938537492312301,8.008737605405235,7.915080043125508,7.967453961219505,6.951389685115142,8.937218743607403,8.955134536079537,8.065756873340863,9.051112508929155,9.048256144973656,8.974755343110955,9.007055501799908,8.969915565253501,8.08281765464201,8.919932295884767,7.992981730542808,7.974495951729524,8.068303700134708,8.088779676698568,3.045130898446252,3.0118369978924817,3.029536204574076,3.0313596303198196,2.9444933044080455,2.9134553863873505,2.9245986040851673,3.0666594226934016,3.0743767479128015,8.087990075135309,8.009767176002347,2.920573274386971,3.0185555301800555,3.034337139096486,8.024215589250906,3.0759412668311414,2.9255653334526377,2.9730676366819044,2.94009688289028,7.911911858541042,8.09135837218198,2.958573136386557,7.060334594347945,9.033081778208214,9.076775245344253,9.091756901615897,8.958098665637548,9.049691284214987,8.940949571328991,8.94142411544881,8.917798186967413,9.0649164194161,9.028696988262508,8.99701805950782,9.074922318165019,9.060420590270542,8.95437881582139,9.098183164259956,8.083857098910839,9.069692973980912,9.002296821889184,9.010203804606117,8.997892372891219,8.90152915358245,9.028677830973248,8.965381117184176,8.95999891387895,9.065381698247219,8.971777118197355,8.93469389152787,8.939363765963382,8.920250879455406,9.025362825209063,3.993834027971214,3.916217832662414,3.9319837662630923,4.079811807495677,3.977758613261916,4.065259188005602,3.9370578989384613,4.067335632746881,3.9132538393735348,9.024447547395896,9.053165467798795,3.9335533063528154,3.92831250593389,4.015773689344314,8.928682911366275,3.975636895699464,3.972057273970529,3.9503839563081553,4.001395375464345,8.966364921784121,9.09491920239268,3.919744862202941,7.980385319058122],\"y\":[9.416879093342043,9.276507598648365,9.320219097236699,9.278415970140312,9.425984483023958,9.283077569202478,9.464627809184721,9.362567342539268,9.376879897861468,9.301815247974961,9.277744622610767,9.372831403778148,9.47367259394118,9.266537875004245,9.353886012818077,9.455883366100409,9.43248939980677,9.33472936757652,9.420241855327056,9.466653410947787,9.304427242909135,9.385831986287387,9.379647117002829,9.357305569034448,9.306956310166631,9.410312403309256,9.3010612683231,9.306958495571003,9.30216156046649,9.293118257283117,9.41434030917262,9.434146994060814,9.419925010164825,9.400607348053935,9.449095505468964,9.29781909114814,9.359150434306946,9.276832227722954,9.401107181692012,9.38895113185864,9.404570405223138,9.285689837109933,9.367478335534122,9.411715873806765,9.334734332635767,9.318455039264805,9.390604707535184,9.281166313871259,9.39586017202388,9.291394556124306,9.36312666243503,9.36723487163863,18.127532541500383,18.056227899088057,18.070752839851306,9.333151279315999,9.382271393216191,18.12071399624116,9.412900862796485,9.478308368547921,9.308919978742791,9.4397570014975,9.265365053385947,18.008011143193304,9.320519108210748,18.094177753447763,18.172964617009143,18.032208449948993,18.021662549931357,18.109699273007312,18.040695506291296,18.00058776243414,18.009535976875416,18.01185648253718,9.310227505093813,9.283553604122375,9.333438618752254,9.332946460930927,9.281737224918373,9.372587821557104,9.282326480822306,9.474371960969341,9.3095329757716,9.459749664712673,9.333207511314422,9.47720507119604,17.08175517595898,16.965042364409776,16.95411539466566,18.093688391025673,9.304307897219635,9.288368967971172,17.10132490670054,9.331845107091924,9.395976577068458,9.44346467529273,9.438598863151668,9.279862005591268,16.98606223203109,9.263610050318691,17.092058896332368,17.090923231471198,16.927559075180923,17.09556392589568,17.001660092958026,16.936530788497375,17.046853490524956,17.051211127028218,16.994322997266643,17.992834693959647,9.324897914975447,9.327513134327301,9.341827392968684,9.30403217195858,9.428681721229168,9.461709273776599,9.285065730238117,9.427063891970013,9.422742914816292,9.362685980079108,9.343276033110804,9.456673259873666,15.939527430132987,15.923887588629917,15.908212092577736,16.973540872938198,9.43519140522765,9.43947685685215,15.871660004485639,9.418074537504552,9.46500952038641,9.380992773074473,9.451168502565851,9.316188563197981,15.925908041342213,9.465479629884106,15.986832974553074,16.014810965202525,15.93970385234153,15.904560413641425,15.825202693421492,15.97436551359697,15.89148992685423,15.93434386922827,15.869019029939823,17.072381203563037,9.265011074730824,9.308041764614671,9.366820917583695,9.338319901236318,9.462113979849645,9.40392281983418,9.426267585380932,9.416362090108114,9.297973460561803,9.462251882945793,9.47764211674759,9.306500923397257,14.888269604695527,14.716536699042049,14.844280920370354,15.978369296099828,9.37980839802789,9.416544365785326,14.853709389013655,9.376340898962868,9.455379105638768,9.35316373619868,9.411850172634963,9.276423050068878,14.755664183713247,9.381690113975695,14.792172973234957,14.837924307946116,14.904376682888483,14.839854161214436,14.872272632729063,14.913448915233968,14.903834103469517,14.874100777461859,14.798071151651378,15.834015547066706,9.39421283433884,9.458076171960608,9.465788611463195,9.355865697395691,9.373772106093604,9.326221044933718,9.262435058378154,9.272963717725442,9.385848440780777,9.463893919979608,9.301686453363184,9.326626064031235,13.690015783240625,13.74505390688304,13.822117587083493,14.812469371303457,9.302948583242589,9.374095068368392,13.790248595226041,9.297299035996692,9.272424874648252,9.33313789827655,9.318064735124016,9.398813192681445,13.695987238401214,9.395494953720458,13.713537544403966,13.799502127737043,13.639605973110019,13.715481721744105,13.696925548282191,13.686933772609756,13.640242154959108,13.826715729211438,13.751003732166005,14.849104868915262,9.271812825127347,9.408799246393523,9.345513362413454,9.395056204001781,9.275913171025252,9.455629188652136,9.409836186160963,9.465221824290287,9.296415647698325,9.289569716625468,9.413360376066379,9.342550266905567,12.729152156826277,12.64361224598747,12.696324274330028,13.619770807800155,9.337672935265884,9.323876636986311,12.729416625106687,9.472781797325803,9.26105539182708,9.337239372138853,9.276032082412359,9.369710020435402,12.703552106032884,9.387882640572256,12.73488850477808,12.604476229400772,12.71939595612984,12.644305535010844,18.142418366535594,18.102268210993074,18.03618082726359,18.02877885727792,18.179230465661792,17.987591235068948,18.181430285512818,18.0221329980947,18.03687092294075,12.653211887441373,12.529263754680077,18.170895881029992,18.17070139745412,18.076824437300566,12.716129166216,18.18175060026183,18.07466827740282,18.10048965002085,17.981755440666046,12.676523014559933,12.648336371547307,18.046851503698893,13.707587777279095,9.28283851009347,9.359151507065276,9.283453540624633,9.445374035010609,9.267693705600738,9.391625972534058,9.420973314736663,9.406912094963184,9.459837610699484,9.320566137392742,9.457045314256657,9.361452060908332,11.45320882483826,11.478395214052343,11.637511980968569,12.67736134170563,9.45653279959866,9.430306300615115,11.540559246776432,9.459011819442404,9.39027502359865,9.294804853193625,9.432244941429868,9.270732487166297,11.508551254324107,9.42994957480519,11.617117615093672,11.533745393849358,11.523071664133706,11.445013383582527,17.018799429173256,16.889702161149668,17.063706468749416,16.976599843300107,16.965439769480025,16.893285261940264,16.972753987229908,16.969941647281914,16.93686802728752,11.440923431537826,11.481311998052185,16.946975776837522,17.095039957742642,16.900582556242803,11.485965358774546,17.033000203482256,16.91130714802761,16.906990473473957,16.985374490228008,11.503302631106394,11.49187025643746,17.066789074760468,12.654018287549524,9.26144910072371,9.416860907097327,9.271423956013493,9.438349879300986,9.322541714901744,9.311314705296173,9.417532662271373,9.478272881726594,9.465243377648784,9.334844806701588,9.415393802269614,9.43679329177464,10.449740523268556,10.55177341201766,10.494715956878277,11.601641769617867,9.438229969567866,9.418712057552371,10.387622307929412,9.314151255543868,9.317263049814446,9.397336660069518,9.362148060047609,9.402609235008262,10.3690358664494,9.457062257686609,10.46690536706602,10.487044236444907,10.38484773117774,10.362540690636479,15.857217705013225,15.893488912255204,15.87420695421217,15.872220468639313,15.96685481478349,16.000668298279365,15.98852859846236,15.833763992723755,15.8253565457821,10.363400902310785,10.448618883332202,15.992913893224227,15.88616957529224,15.868976696173277,10.432878420888942,15.823652119776817,15.987475419331911,15.935725223162573,15.97164438624678,10.555224911473497,10.359731395338027,15.951515893986269,11.482954463083754,9.333794384159795,9.286193629209128,9.26987223849135,9.41548286074147,9.315699573262357,9.434165512618602,9.433648532396125,9.459387209270256,9.29911293051454,9.338571283897823,9.373083100505477,9.28821225438084,9.304010799131637,9.419535358086232,9.262871307381534,10.367903469888345,9.293909232610682,9.367332284856635,9.35871822029783,9.372130601657453,9.47711110078545,9.338592154327463,9.407549176045956,9.41341268282213,9.298606044129103,9.400581212713025,9.440980606516641,9.435893128611465,9.456715184783693,9.342203604445388,14.823676808639707,14.908233831354206,14.891058029315936,14.730010467133685,14.841189767131311,14.745864454460452,14.88553014238228,14.743602323671187,14.911462879710111,9.343200730966858,9.311914710850052,14.889348133121075,14.895057592059409,14.799775193291353,9.4475291185126,14.843501219263281,14.847400948625673,14.87101240247992,14.815439287730763,9.406477394730558,9.266427149002634,14.90439139723609,10.480628212508188],\"type\":\"scatter\"}],                        {\"template\":{\"data\":{\"histogram2dcontour\":[{\"type\":\"histogram2dcontour\",\"colorbar\":{\"outlinewidth\":0,\"ticks\":\"\"},\"colorscale\":[[0.0,\"#0d0887\"],[0.1111111111111111,\"#46039f\"],[0.2222222222222222,\"#7201a8\"],[0.3333333333333333,\"#9c179e\"],[0.4444444444444444,\"#bd3786\"],[0.5555555555555556,\"#d8576b\"],[0.6666666666666666,\"#ed7953\"],[0.7777777777777778,\"#fb9f3a\"],[0.8888888888888888,\"#fdca26\"],[1.0,\"#f0f921\"]]}],\"choropleth\":[{\"type\":\"choropleth\",\"colorbar\":{\"outlinewidth\":0,\"ticks\":\"\"}}],\"histogram2d\":[{\"type\":\"histogram2d\",\"colorbar\":{\"outlinewidth\":0,\"ticks\":\"\"},\"colorscale\":[[0.0,\"#0d0887\"],[0.1111111111111111,\"#46039f\"],[0.2222222222222222,\"#7201a8\"],[0.3333333333333333,\"#9c179e\"],[0.4444444444444444,\"#bd3786\"],[0.5555555555555556,\"#d8576b\"],[0.6666666666666666,\"#ed7953\"],[0.7777777777777778,\"#fb9f3a\"],[0.8888888888888888,\"#fdca26\"],[1.0,\"#f0f921\"]]}],\"heatmap\":[{\"type\":\"heatmap\",\"colorbar\":{\"outlinewidth\":0,\"ticks\":\"\"},\"colorscale\":[[0.0,\"#0d0887\"],[0.1111111111111111,\"#46039f\"],[0.2222222222222222,\"#7201a8\"],[0.3333333333333333,\"#9c179e\"],[0.4444444444444444,\"#bd3786\"],[0.5555555555555556,\"#d8576b\"],[0.6666666666666666,\"#ed7953\"],[0.7777777777777778,\"#fb9f3a\"],[0.8888888888888888,\"#fdca26\"],[1.0,\"#f0f921\"]]}],\"heatmapgl\":[{\"type\":\"heatmapgl\",\"colorbar\":{\"outlinewidth\":0,\"ticks\":\"\"},\"colorscale\":[[0.0,\"#0d0887\"],[0.1111111111111111,\"#46039f\"],[0.2222222222222222,\"#7201a8\"],[0.3333333333333333,\"#9c179e\"],[0.4444444444444444,\"#bd3786\"],[0.5555555555555556,\"#d8576b\"],[0.6666666666666666,\"#ed7953\"],[0.7777777777777778,\"#fb9f3a\"],[0.8888888888888888,\"#fdca26\"],[1.0,\"#f0f921\"]]}],\"contourcarpet\":[{\"type\":\"contourcarpet\",\"colorbar\":{\"outlinewidth\":0,\"ticks\":\"\"}}],\"contour\":[{\"type\":\"contour\",\"colorbar\":{\"outlinewidth\":0,\"ticks\":\"\"},\"colorscale\":[[0.0,\"#0d0887\"],[0.1111111111111111,\"#46039f\"],[0.2222222222222222,\"#7201a8\"],[0.3333333333333333,\"#9c179e\"],[0.4444444444444444,\"#bd3786\"],[0.5555555555555556,\"#d8576b\"],[0.6666666666666666,\"#ed7953\"],[0.7777777777777778,\"#fb9f3a\"],[0.8888888888888888,\"#fdca26\"],[1.0,\"#f0f921\"]]}],\"surface\":[{\"type\":\"surface\",\"colorbar\":{\"outlinewidth\":0,\"ticks\":\"\"},\"colorscale\":[[0.0,\"#0d0887\"],[0.1111111111111111,\"#46039f\"],[0.2222222222222222,\"#7201a8\"],[0.3333333333333333,\"#9c179e\"],[0.4444444444444444,\"#bd3786\"],[0.5555555555555556,\"#d8576b\"],[0.6666666666666666,\"#ed7953\"],[0.7777777777777778,\"#fb9f3a\"],[0.8888888888888888,\"#fdca26\"],[1.0,\"#f0f921\"]]}],\"mesh3d\":[{\"type\":\"mesh3d\",\"colorbar\":{\"outlinewidth\":0,\"ticks\":\"\"}}],\"scatter\":[{\"fillpattern\":{\"fillmode\":\"overlay\",\"size\":10,\"solidity\":0.2},\"type\":\"scatter\"}],\"parcoords\":[{\"type\":\"parcoords\",\"line\":{\"colorbar\":{\"outlinewidth\":0,\"ticks\":\"\"}}}],\"scatterpolargl\":[{\"type\":\"scatterpolargl\",\"marker\":{\"colorbar\":{\"outlinewidth\":0,\"ticks\":\"\"}}}],\"bar\":[{\"error_x\":{\"color\":\"#2a3f5f\"},\"error_y\":{\"color\":\"#2a3f5f\"},\"marker\":{\"line\":{\"color\":\"#E5ECF6\",\"width\":0.5},\"pattern\":{\"fillmode\":\"overlay\",\"size\":10,\"solidity\":0.2}},\"type\":\"bar\"}],\"scattergeo\":[{\"type\":\"scattergeo\",\"marker\":{\"colorbar\":{\"outlinewidth\":0,\"ticks\":\"\"}}}],\"scatterpolar\":[{\"type\":\"scatterpolar\",\"marker\":{\"colorbar\":{\"outlinewidth\":0,\"ticks\":\"\"}}}],\"histogram\":[{\"marker\":{\"pattern\":{\"fillmode\":\"overlay\",\"size\":10,\"solidity\":0.2}},\"type\":\"histogram\"}],\"scattergl\":[{\"type\":\"scattergl\",\"marker\":{\"colorbar\":{\"outlinewidth\":0,\"ticks\":\"\"}}}],\"scatter3d\":[{\"type\":\"scatter3d\",\"line\":{\"colorbar\":{\"outlinewidth\":0,\"ticks\":\"\"}},\"marker\":{\"colorbar\":{\"outlinewidth\":0,\"ticks\":\"\"}}}],\"scattermapbox\":[{\"type\":\"scattermapbox\",\"marker\":{\"colorbar\":{\"outlinewidth\":0,\"ticks\":\"\"}}}],\"scatterternary\":[{\"type\":\"scatterternary\",\"marker\":{\"colorbar\":{\"outlinewidth\":0,\"ticks\":\"\"}}}],\"scattercarpet\":[{\"type\":\"scattercarpet\",\"marker\":{\"colorbar\":{\"outlinewidth\":0,\"ticks\":\"\"}}}],\"carpet\":[{\"aaxis\":{\"endlinecolor\":\"#2a3f5f\",\"gridcolor\":\"white\",\"linecolor\":\"white\",\"minorgridcolor\":\"white\",\"startlinecolor\":\"#2a3f5f\"},\"baxis\":{\"endlinecolor\":\"#2a3f5f\",\"gridcolor\":\"white\",\"linecolor\":\"white\",\"minorgridcolor\":\"white\",\"startlinecolor\":\"#2a3f5f\"},\"type\":\"carpet\"}],\"table\":[{\"cells\":{\"fill\":{\"color\":\"#EBF0F8\"},\"line\":{\"color\":\"white\"}},\"header\":{\"fill\":{\"color\":\"#C8D4E3\"},\"line\":{\"color\":\"white\"}},\"type\":\"table\"}],\"barpolar\":[{\"marker\":{\"line\":{\"color\":\"#E5ECF6\",\"width\":0.5},\"pattern\":{\"fillmode\":\"overlay\",\"size\":10,\"solidity\":0.2}},\"type\":\"barpolar\"}],\"pie\":[{\"automargin\":true,\"type\":\"pie\"}]},\"layout\":{\"autotypenumbers\":\"strict\",\"colorway\":[\"#636efa\",\"#EF553B\",\"#00cc96\",\"#ab63fa\",\"#FFA15A\",\"#19d3f3\",\"#FF6692\",\"#B6E880\",\"#FF97FF\",\"#FECB52\"],\"font\":{\"color\":\"#2a3f5f\"},\"hovermode\":\"closest\",\"hoverlabel\":{\"align\":\"left\"},\"paper_bgcolor\":\"white\",\"plot_bgcolor\":\"#E5ECF6\",\"polar\":{\"bgcolor\":\"#E5ECF6\",\"angularaxis\":{\"gridcolor\":\"white\",\"linecolor\":\"white\",\"ticks\":\"\"},\"radialaxis\":{\"gridcolor\":\"white\",\"linecolor\":\"white\",\"ticks\":\"\"}},\"ternary\":{\"bgcolor\":\"#E5ECF6\",\"aaxis\":{\"gridcolor\":\"white\",\"linecolor\":\"white\",\"ticks\":\"\"},\"baxis\":{\"gridcolor\":\"white\",\"linecolor\":\"white\",\"ticks\":\"\"},\"caxis\":{\"gridcolor\":\"white\",\"linecolor\":\"white\",\"ticks\":\"\"}},\"coloraxis\":{\"colorbar\":{\"outlinewidth\":0,\"ticks\":\"\"}},\"colorscale\":{\"sequential\":[[0.0,\"#0d0887\"],[0.1111111111111111,\"#46039f\"],[0.2222222222222222,\"#7201a8\"],[0.3333333333333333,\"#9c179e\"],[0.4444444444444444,\"#bd3786\"],[0.5555555555555556,\"#d8576b\"],[0.6666666666666666,\"#ed7953\"],[0.7777777777777778,\"#fb9f3a\"],[0.8888888888888888,\"#fdca26\"],[1.0,\"#f0f921\"]],\"sequentialminus\":[[0.0,\"#0d0887\"],[0.1111111111111111,\"#46039f\"],[0.2222222222222222,\"#7201a8\"],[0.3333333333333333,\"#9c179e\"],[0.4444444444444444,\"#bd3786\"],[0.5555555555555556,\"#d8576b\"],[0.6666666666666666,\"#ed7953\"],[0.7777777777777778,\"#fb9f3a\"],[0.8888888888888888,\"#fdca26\"],[1.0,\"#f0f921\"]],\"diverging\":[[0,\"#8e0152\"],[0.1,\"#c51b7d\"],[0.2,\"#de77ae\"],[0.3,\"#f1b6da\"],[0.4,\"#fde0ef\"],[0.5,\"#f7f7f7\"],[0.6,\"#e6f5d0\"],[0.7,\"#b8e186\"],[0.8,\"#7fbc41\"],[0.9,\"#4d9221\"],[1,\"#276419\"]]},\"xaxis\":{\"gridcolor\":\"white\",\"linecolor\":\"white\",\"ticks\":\"\",\"title\":{\"standoff\":15},\"zerolinecolor\":\"white\",\"automargin\":true,\"zerolinewidth\":2},\"yaxis\":{\"gridcolor\":\"white\",\"linecolor\":\"white\",\"ticks\":\"\",\"title\":{\"standoff\":15},\"zerolinecolor\":\"white\",\"automargin\":true,\"zerolinewidth\":2},\"scene\":{\"xaxis\":{\"backgroundcolor\":\"#E5ECF6\",\"gridcolor\":\"white\",\"linecolor\":\"white\",\"showbackground\":true,\"ticks\":\"\",\"zerolinecolor\":\"white\",\"gridwidth\":2},\"yaxis\":{\"backgroundcolor\":\"#E5ECF6\",\"gridcolor\":\"white\",\"linecolor\":\"white\",\"showbackground\":true,\"ticks\":\"\",\"zerolinecolor\":\"white\",\"gridwidth\":2},\"zaxis\":{\"backgroundcolor\":\"#E5ECF6\",\"gridcolor\":\"white\",\"linecolor\":\"white\",\"showbackground\":true,\"ticks\":\"\",\"zerolinecolor\":\"white\",\"gridwidth\":2}},\"shapedefaults\":{\"line\":{\"color\":\"#2a3f5f\"}},\"annotationdefaults\":{\"arrowcolor\":\"#2a3f5f\",\"arrowhead\":0,\"arrowwidth\":1},\"geo\":{\"bgcolor\":\"white\",\"landcolor\":\"#E5ECF6\",\"subunitcolor\":\"white\",\"showland\":true,\"showlakes\":true,\"lakecolor\":\"white\"},\"title\":{\"x\":0.05},\"mapbox\":{\"style\":\"light\"}}},\"xaxis\":{\"anchor\":\"y\",\"domain\":[0.0,1.0],\"title\":{\"text\":\"Warmth_jitter\"}},\"yaxis\":{\"anchor\":\"x\",\"domain\":[0.0,1.0],\"title\":{\"text\":\"Deer Density\"}},\"legend\":{\"tracegroupgap\":0},\"title\":{\"text\":\"Scatter Plot of Warmth and Deer Density with Jitter\"},\"height\":600},                        {\"responsive\": true}                    ).then(function(){\n",
       "                            \n",
       "var gd = document.getElementById('adb8956e-f728-4409-bdb3-fa0383bb14c1');\n",
       "var x = new MutationObserver(function (mutations, observer) {{\n",
       "        var display = window.getComputedStyle(gd).display;\n",
       "        if (!display || display === 'none') {{\n",
       "            console.log([gd, 'removed!']);\n",
       "            Plotly.purge(gd);\n",
       "            observer.disconnect();\n",
       "        }}\n",
       "}});\n",
       "\n",
       "// Listen for the removal of the full notebook cells\n",
       "var notebookContainer = gd.closest('#notebook-container');\n",
       "if (notebookContainer) {{\n",
       "    x.observe(notebookContainer, {childList: true});\n",
       "}}\n",
       "\n",
       "// Listen for the clearing of the current output cell\n",
       "var outputEl = gd.closest('.output');\n",
       "if (outputEl) {{\n",
       "    x.observe(outputEl, {childList: true});\n",
       "}}\n",
       "\n",
       "                        })                };                });            </script>        </div>"
      ]
     },
     "metadata": {},
     "output_type": "display_data"
    }
   ],
   "source": [
    "import plotly.express as px\n",
    "import plotly.graph_objects as go\n",
    "import numpy as np\n",
    "\n",
    "# Add jitter to the Warmth values\n",
    "jitter_strength = 0.1\n",
    "df_melted['Warmth_jitter'] = df_melted['Warmth'] + np.random.uniform(-jitter_strength, jitter_strength, len(df_melted))\n",
    "\n",
    "# Create a scatter plot of warmth and deer density with jitter\n",
    "fig = px.scatter(df_melted, x='Warmth_jitter', y='Deer Density', title='Scatter Plot of Warmth and Deer Density with Jitter')\n",
    "\n",
    "# Add regression line\n",
    "regression_line = np.polyval(np.polyfit(df_melted['Warmth_jitter'], df_melted['Deer Density'], 1), df_melted['Warmth_jitter'])\n",
    "fig.add_trace(go.Scatter(x=df_melted['Warmth_jitter'], y=regression_line, mode='lines', name='Regression Line'))\n",
    "\n",
    "fig.update_layout(height=600)\n",
    "\n",
    "fig.show()\n"
   ]
  },
  {
   "cell_type": "code",
   "execution_count": 9,
   "id": "049f4bd9-b84e-42a0-b929-d5f3ef89273d",
   "metadata": {
    "tags": []
   },
   "outputs": [],
   "source": [
    "yearly_avg = df_melted.groupby('Year')['Deer Density'].mean().reset_index()"
   ]
  },
  {
   "cell_type": "code",
   "execution_count": 10,
   "id": "2790c2fb-2e09-4ce0-864d-63f42862659b",
   "metadata": {
    "tags": []
   },
   "outputs": [
    {
     "data": {
      "text/html": [
       "<div>\n",
       "<style scoped>\n",
       "    .dataframe tbody tr th:only-of-type {\n",
       "        vertical-align: middle;\n",
       "    }\n",
       "\n",
       "    .dataframe tbody tr th {\n",
       "        vertical-align: top;\n",
       "    }\n",
       "\n",
       "    .dataframe thead th {\n",
       "        text-align: right;\n",
       "    }\n",
       "</style>\n",
       "<table border=\"1\" class=\"dataframe\">\n",
       "  <thead>\n",
       "    <tr style=\"text-align: right;\">\n",
       "      <th></th>\n",
       "      <th>Year</th>\n",
       "      <th>Deer Density</th>\n",
       "    </tr>\n",
       "  </thead>\n",
       "  <tbody>\n",
       "    <tr>\n",
       "      <th>0</th>\n",
       "      <td>2009.815585</td>\n",
       "      <td>7.0</td>\n",
       "    </tr>\n",
       "    <tr>\n",
       "      <th>1</th>\n",
       "      <td>2009.849044</td>\n",
       "      <td>7.0</td>\n",
       "    </tr>\n",
       "    <tr>\n",
       "      <th>2</th>\n",
       "      <td>2009.849236</td>\n",
       "      <td>8.0</td>\n",
       "    </tr>\n",
       "    <tr>\n",
       "      <th>3</th>\n",
       "      <td>2009.849692</td>\n",
       "      <td>12.0</td>\n",
       "    </tr>\n",
       "    <tr>\n",
       "      <th>4</th>\n",
       "      <td>2009.858389</td>\n",
       "      <td>5.0</td>\n",
       "    </tr>\n",
       "    <tr>\n",
       "      <th>...</th>\n",
       "      <td>...</td>\n",
       "      <td>...</td>\n",
       "    </tr>\n",
       "    <tr>\n",
       "      <th>425</th>\n",
       "      <td>2020.153089</td>\n",
       "      <td>14.0</td>\n",
       "    </tr>\n",
       "    <tr>\n",
       "      <th>426</th>\n",
       "      <td>2020.170220</td>\n",
       "      <td>17.0</td>\n",
       "    </tr>\n",
       "    <tr>\n",
       "      <th>427</th>\n",
       "      <td>2020.177635</td>\n",
       "      <td>19.0</td>\n",
       "    </tr>\n",
       "    <tr>\n",
       "      <th>428</th>\n",
       "      <td>2020.193590</td>\n",
       "      <td>7.0</td>\n",
       "    </tr>\n",
       "    <tr>\n",
       "      <th>429</th>\n",
       "      <td>2020.197164</td>\n",
       "      <td>26.0</td>\n",
       "    </tr>\n",
       "  </tbody>\n",
       "</table>\n",
       "<p>430 rows × 2 columns</p>\n",
       "</div>"
      ],
      "text/plain": [
       "            Year  Deer Density\n",
       "0    2009.815585           7.0\n",
       "1    2009.849044           7.0\n",
       "2    2009.849236           8.0\n",
       "3    2009.849692          12.0\n",
       "4    2009.858389           5.0\n",
       "..           ...           ...\n",
       "425  2020.153089          14.0\n",
       "426  2020.170220          17.0\n",
       "427  2020.177635          19.0\n",
       "428  2020.193590           7.0\n",
       "429  2020.197164          26.0\n",
       "\n",
       "[430 rows x 2 columns]"
      ]
     },
     "execution_count": 10,
     "metadata": {},
     "output_type": "execute_result"
    }
   ],
   "source": [
    "yearly_avg"
   ]
  },
  {
   "cell_type": "code",
   "execution_count": 17,
   "id": "d80182af-2bcb-491e-a68e-0f86da2a3a49",
   "metadata": {
    "tags": []
   },
   "outputs": [
    {
     "data": {
      "image/png": "[encoded data removed]",
      "text/plain": [
       "<Figure size 1000x600 with 1 Axes>"
      ]
     },
     "metadata": {},
     "output_type": "display_data"
    }
   ],
   "source": [
    "# Create a beeswarm plot with color based on warmth\n",
    "plt.figure(figsize=(10,6))\n",
    "# sns.swarmplot(x='Year', y='Deer Density', hue='Warmth', palette='coolwarm', data=df_melted)\n",
    "plt.plot(yearly_avg['Year'], yearly_avg['Deer Density'], color='black', marker='o', linestyle='-', linewidth=2)\n",
    "plt.title('Beeswarm Plot of DMA Values Over Years with Warmth Coloring and Yearly Average')\n",
    "plt.ylim(2, 20)\n",
    "plt.show()\n"
   ]
  },
  {
   "cell_type": "code",
   "execution_count": null,
   "id": "a85a13b2-cfc2-4ea9-a19e-e7eb83072804",
   "metadata": {},
   "outputs": [],
   "source": []
  }
 ],
 "metadata": {
  "kernelspec": {
   "display_name": "Python 3 (ipykernel)",
   "language": "python",
   "name": "python3"
  },
  "language_info": {
   "codemirror_mode": {
    "name": "ipython",
    "version": 3
   },
   "file_extension": ".py",
   "mimetype": "text/x-python",
   "name": "python",
   "nbconvert_exporter": "python",
   "pygments_lexer": "ipython3",
   "version": "3.11.3"
  }
 },
 "nbformat": 4,
 "nbformat_minor": 5
}
